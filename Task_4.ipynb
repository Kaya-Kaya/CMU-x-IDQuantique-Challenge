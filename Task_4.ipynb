{
 "cells": [
  {
   "cell_type": "markdown",
   "id": "65065fb6",
   "metadata": {},
   "source": [
    "# Task 4: Demonstrating Quantum Advantage"
   ]
  },
  {
   "cell_type": "code",
   "execution_count": 43,
   "id": "4ab73f7d",
   "metadata": {},
   "outputs": [
    {
     "data": {
      "text/plain": [
       "\"\\nThis task is intentionally open-ended, so no boilerplate code is provided.\\n\\nYou may use this notebook to develop your solution, or create a separate file if you prefer.\\nWe recommend starting by copying over your previous implementations of the QRNG, TRNG, and PRNG.\\nThen, explore ways to modularize and combine these components to design a use case that\\ndemonstrates the unique advantages of quantum randomness.\\n\\nYour write-up can be included directly in this notebook or submitted separately.\\nYou're welcome to prepare it as a Google Doc or LaTeX document and upload a PDF to the GitHub repository—\\njust be sure to clearly indicate where it can be found if it's not included here.\\n\""
      ]
     },
     "execution_count": 43,
     "metadata": {},
     "output_type": "execute_result"
    }
   ],
   "source": [
    "\"\"\"\n",
    "This task is intentionally open-ended, so no boilerplate code is provided.\n",
    "\n",
    "You may use this notebook to develop your solution, or create a separate file if you prefer.\n",
    "We recommend starting by copying over your previous implementations of the QRNG, TRNG, and PRNG.\n",
    "Then, explore ways to modularize and combine these components to design a use case that\n",
    "demonstrates the unique advantages of quantum randomness.\n",
    "\n",
    "Your write-up can be included directly in this notebook or submitted separately.\n",
    "You're welcome to prepare it as a Google Doc or LaTeX document and upload a PDF to the GitHub repository—\n",
    "just be sure to clearly indicate where it can be found if it's not included here.\n",
    "\"\"\""
   ]
  },
  {
   "cell_type": "code",
   "execution_count": 44,
   "id": "6affe31e",
   "metadata": {},
   "outputs": [
    {
     "name": "stdout",
     "output_type": "stream",
     "text": [
      "Defaulting to user installation because normal site-packages is not writeable\n",
      "Requirement already satisfied: requests in c:\\users\\darea\\appdata\\roaming\\python\\python311\\site-packages (2.31.0)\n",
      "Requirement already satisfied: charset-normalizer<4,>=2 in c:\\users\\darea\\appdata\\roaming\\python\\python311\\site-packages (from requests) (3.1.0)\n",
      "Requirement already satisfied: idna<4,>=2.5 in c:\\users\\darea\\appdata\\roaming\\python\\python311\\site-packages (from requests) (3.4)\n",
      "Requirement already satisfied: urllib3<3,>=1.21.1 in c:\\users\\darea\\appdata\\roaming\\python\\python311\\site-packages (from requests) (2.2.1)\n",
      "Requirement already satisfied: certifi>=2017.4.17 in c:\\users\\darea\\appdata\\roaming\\python\\python311\\site-packages (from requests) (2024.2.2)\n",
      "Note: you may need to restart the kernel to use updated packages.\n"
     ]
    },
    {
     "name": "stderr",
     "output_type": "stream",
     "text": [
      "\n",
      "[notice] A new release of pip available: 22.3.1 -> 25.1.1\n",
      "[notice] To update, run: python.exe -m pip install --upgrade pip\n"
     ]
    },
    {
     "name": "stdout",
     "output_type": "stream",
     "text": [
      "Defaulting to user installation because normal site-packages is not writeable\n",
      "Requirement already satisfied: numpy in c:\\users\\darea\\appdata\\roaming\\python\\python311\\site-packages (1.26.3)\n",
      "Note: you may need to restart the kernel to use updated packages.\n"
     ]
    },
    {
     "name": "stderr",
     "output_type": "stream",
     "text": [
      "\n",
      "[notice] A new release of pip available: 22.3.1 -> 25.1.1\n",
      "[notice] To update, run: python.exe -m pip install --upgrade pip\n"
     ]
    },
    {
     "name": "stdout",
     "output_type": "stream",
     "text": [
      "Defaulting to user installation because normal site-packages is not writeable\n",
      "Requirement already satisfied: matplotlib in c:\\program files\\python311\\lib\\site-packages (3.10.3)\n",
      "Requirement already satisfied: contourpy>=1.0.1 in c:\\program files\\python311\\lib\\site-packages (from matplotlib) (1.3.2)\n",
      "Requirement already satisfied: cycler>=0.10 in c:\\program files\\python311\\lib\\site-packages (from matplotlib) (0.12.1)\n",
      "Requirement already satisfied: fonttools>=4.22.0 in c:\\program files\\python311\\lib\\site-packages (from matplotlib) (4.58.0)\n",
      "Requirement already satisfied: kiwisolver>=1.3.1 in c:\\program files\\python311\\lib\\site-packages (from matplotlib) (1.4.8)\n",
      "Requirement already satisfied: numpy>=1.23 in c:\\users\\darea\\appdata\\roaming\\python\\python311\\site-packages (from matplotlib) (1.26.3)\n",
      "Requirement already satisfied: packaging>=20.0 in c:\\users\\darea\\appdata\\roaming\\python\\python311\\site-packages (from matplotlib) (23.2)\n",
      "Requirement already satisfied: pillow>=8 in c:\\users\\darea\\appdata\\roaming\\python\\python311\\site-packages (from matplotlib) (10.2.0)\n",
      "Requirement already satisfied: pyparsing>=2.3.1 in c:\\program files\\python311\\lib\\site-packages (from matplotlib) (3.2.3)\n",
      "Requirement already satisfied: python-dateutil>=2.7 in c:\\users\\darea\\appdata\\roaming\\python\\python311\\site-packages (from matplotlib) (2.9.0.post0)\n",
      "Requirement already satisfied: six>=1.5 in c:\\users\\darea\\appdata\\roaming\\python\\python311\\site-packages (from python-dateutil>=2.7->matplotlib) (1.16.0)\n",
      "Note: you may need to restart the kernel to use updated packages.\n"
     ]
    },
    {
     "name": "stderr",
     "output_type": "stream",
     "text": [
      "\n",
      "[notice] A new release of pip available: 22.3.1 -> 25.1.1\n",
      "[notice] To update, run: python.exe -m pip install --upgrade pip\n"
     ]
    },
    {
     "name": "stdout",
     "output_type": "stream",
     "text": [
      "Defaulting to user installation because normal site-packages is not writeable\n",
      "Requirement already satisfied: pyaudio in c:\\program files\\python311\\lib\\site-packages (0.2.14)\n",
      "Note: you may need to restart the kernel to use updated packages.\n"
     ]
    },
    {
     "name": "stderr",
     "output_type": "stream",
     "text": [
      "\n",
      "[notice] A new release of pip available: 22.3.1 -> 25.1.1\n",
      "[notice] To update, run: python.exe -m pip install --upgrade pip\n"
     ]
    },
    {
     "name": "stdout",
     "output_type": "stream",
     "text": [
      "Defaulting to user installation because normal site-packages is not writeable\n",
      "Requirement already satisfied: psutil in c:\\users\\darea\\appdata\\roaming\\python\\python311\\site-packages (7.0.0)\n",
      "Note: you may need to restart the kernel to use updated packages.\n"
     ]
    },
    {
     "name": "stderr",
     "output_type": "stream",
     "text": [
      "\n",
      "[notice] A new release of pip available: 22.3.1 -> 25.1.1\n",
      "[notice] To update, run: python.exe -m pip install --upgrade pip\n"
     ]
    },
    {
     "name": "stdout",
     "output_type": "stream",
     "text": [
      "Defaulting to user installation because normal site-packages is not writeable\n",
      "Requirement already satisfied: pandas in c:\\users\\darea\\appdata\\roaming\\python\\python311\\site-packages (2.2.1)\n",
      "Requirement already satisfied: numpy<2,>=1.23.2 in c:\\users\\darea\\appdata\\roaming\\python\\python311\\site-packages (from pandas) (1.26.3)\n",
      "Requirement already satisfied: python-dateutil>=2.8.2 in c:\\users\\darea\\appdata\\roaming\\python\\python311\\site-packages (from pandas) (2.9.0.post0)\n",
      "Requirement already satisfied: pytz>=2020.1 in c:\\users\\darea\\appdata\\roaming\\python\\python311\\site-packages (from pandas) (2024.1)\n",
      "Requirement already satisfied: tzdata>=2022.7 in c:\\users\\darea\\appdata\\roaming\\python\\python311\\site-packages (from pandas) (2024.1)\n",
      "Requirement already satisfied: six>=1.5 in c:\\users\\darea\\appdata\\roaming\\python\\python311\\site-packages (from python-dateutil>=2.8.2->pandas) (1.16.0)\n",
      "Note: you may need to restart the kernel to use updated packages.\n"
     ]
    },
    {
     "name": "stderr",
     "output_type": "stream",
     "text": [
      "\n",
      "[notice] A new release of pip available: 22.3.1 -> 25.1.1\n",
      "[notice] To update, run: python.exe -m pip install --upgrade pip\n"
     ]
    },
    {
     "name": "stdout",
     "output_type": "stream",
     "text": [
      "Defaulting to user installation because normal site-packages is not writeable\n",
      "Requirement already satisfied: seaborn in c:\\program files\\python311\\lib\\site-packages (0.13.2)\n",
      "Requirement already satisfied: numpy!=1.24.0,>=1.20 in c:\\users\\darea\\appdata\\roaming\\python\\python311\\site-packages (from seaborn) (1.26.3)\n",
      "Requirement already satisfied: pandas>=1.2 in c:\\users\\darea\\appdata\\roaming\\python\\python311\\site-packages (from seaborn) (2.2.1)\n",
      "Requirement already satisfied: matplotlib!=3.6.1,>=3.4 in c:\\program files\\python311\\lib\\site-packages (from seaborn) (3.10.3)\n",
      "Requirement already satisfied: contourpy>=1.0.1 in c:\\program files\\python311\\lib\\site-packages (from matplotlib!=3.6.1,>=3.4->seaborn) (1.3.2)\n",
      "Requirement already satisfied: cycler>=0.10 in c:\\program files\\python311\\lib\\site-packages (from matplotlib!=3.6.1,>=3.4->seaborn) (0.12.1)\n",
      "Requirement already satisfied: fonttools>=4.22.0 in c:\\program files\\python311\\lib\\site-packages (from matplotlib!=3.6.1,>=3.4->seaborn) (4.58.0)\n",
      "Requirement already satisfied: kiwisolver>=1.3.1 in c:\\program files\\python311\\lib\\site-packages (from matplotlib!=3.6.1,>=3.4->seaborn) (1.4.8)\n",
      "Requirement already satisfied: packaging>=20.0 in c:\\users\\darea\\appdata\\roaming\\python\\python311\\site-packages (from matplotlib!=3.6.1,>=3.4->seaborn) (23.2)\n",
      "Requirement already satisfied: pillow>=8 in c:\\users\\darea\\appdata\\roaming\\python\\python311\\site-packages (from matplotlib!=3.6.1,>=3.4->seaborn) (10.2.0)\n",
      "Requirement already satisfied: pyparsing>=2.3.1 in c:\\program files\\python311\\lib\\site-packages (from matplotlib!=3.6.1,>=3.4->seaborn) (3.2.3)\n",
      "Requirement already satisfied: python-dateutil>=2.7 in c:\\users\\darea\\appdata\\roaming\\python\\python311\\site-packages (from matplotlib!=3.6.1,>=3.4->seaborn) (2.9.0.post0)\n",
      "Requirement already satisfied: pytz>=2020.1 in c:\\users\\darea\\appdata\\roaming\\python\\python311\\site-packages (from pandas>=1.2->seaborn) (2024.1)\n",
      "Requirement already satisfied: tzdata>=2022.7 in c:\\users\\darea\\appdata\\roaming\\python\\python311\\site-packages (from pandas>=1.2->seaborn) (2024.1)\n",
      "Requirement already satisfied: six>=1.5 in c:\\users\\darea\\appdata\\roaming\\python\\python311\\site-packages (from python-dateutil>=2.7->matplotlib!=3.6.1,>=3.4->seaborn) (1.16.0)\n",
      "Note: you may need to restart the kernel to use updated packages.\n"
     ]
    },
    {
     "name": "stderr",
     "output_type": "stream",
     "text": [
      "\n",
      "[notice] A new release of pip available: 22.3.1 -> 25.1.1\n",
      "[notice] To update, run: python.exe -m pip install --upgrade pip\n"
     ]
    },
    {
     "name": "stdout",
     "output_type": "stream",
     "text": [
      "Defaulting to user installation because normal site-packages is not writeable\n",
      "Requirement already satisfied: scipy in c:\\users\\darea\\appdata\\roaming\\python\\python311\\site-packages (1.15.3)\n",
      "Requirement already satisfied: numpy<2.5,>=1.23.5 in c:\\users\\darea\\appdata\\roaming\\python\\python311\\site-packages (from scipy) (1.26.3)\n",
      "Note: you may need to restart the kernel to use updated packages.\n"
     ]
    },
    {
     "name": "stderr",
     "output_type": "stream",
     "text": [
      "\n",
      "[notice] A new release of pip available: 22.3.1 -> 25.1.1\n",
      "[notice] To update, run: python.exe -m pip install --upgrade pip\n"
     ]
    },
    {
     "name": "stdout",
     "output_type": "stream",
     "text": [
      "Defaulting to user installation because normal site-packages is not writeable\n",
      "Collecting ucimlrepo\n",
      "  Downloading ucimlrepo-0.0.7-py3-none-any.whl (8.0 kB)\n",
      "Requirement already satisfied: pandas>=1.0.0 in c:\\users\\darea\\appdata\\roaming\\python\\python311\\site-packages (from ucimlrepo) (2.2.1)\n",
      "Requirement already satisfied: certifi>=2020.12.5 in c:\\users\\darea\\appdata\\roaming\\python\\python311\\site-packages (from ucimlrepo) (2024.2.2)\n",
      "Requirement already satisfied: numpy<2,>=1.23.2 in c:\\users\\darea\\appdata\\roaming\\python\\python311\\site-packages (from pandas>=1.0.0->ucimlrepo) (1.26.3)\n",
      "Requirement already satisfied: python-dateutil>=2.8.2 in c:\\users\\darea\\appdata\\roaming\\python\\python311\\site-packages (from pandas>=1.0.0->ucimlrepo) (2.9.0.post0)\n",
      "Requirement already satisfied: pytz>=2020.1 in c:\\users\\darea\\appdata\\roaming\\python\\python311\\site-packages (from pandas>=1.0.0->ucimlrepo) (2024.1)\n",
      "Requirement already satisfied: tzdata>=2022.7 in c:\\users\\darea\\appdata\\roaming\\python\\python311\\site-packages (from pandas>=1.0.0->ucimlrepo) (2024.1)\n",
      "Requirement already satisfied: six>=1.5 in c:\\users\\darea\\appdata\\roaming\\python\\python311\\site-packages (from python-dateutil>=2.8.2->pandas>=1.0.0->ucimlrepo) (1.16.0)\n",
      "Installing collected packages: ucimlrepo\n",
      "Successfully installed ucimlrepo-0.0.7\n",
      "Note: you may need to restart the kernel to use updated packages.\n"
     ]
    },
    {
     "name": "stderr",
     "output_type": "stream",
     "text": [
      "\n",
      "[notice] A new release of pip available: 22.3.1 -> 25.1.1\n",
      "[notice] To update, run: python.exe -m pip install --upgrade pip\n"
     ]
    }
   ],
   "source": [
    "%pip install requests\n",
    "%pip install numpy\n",
    "%pip install matplotlib\n",
    "%pip install pyaudio\n",
    "%pip install psutil\n",
    "%pip install pandas\n",
    "%pip install seaborn\n",
    "%pip install scipy\n",
    "%pip install ucimlrepo"
   ]
  },
  {
   "cell_type": "code",
   "execution_count": 5,
   "id": "7796a27e",
   "metadata": {},
   "outputs": [],
   "source": [
    "# Package Imports - feel free to add what you think might be useful! \n",
    "import requests\n",
    "import time\n",
    "import numpy as np\n",
    "import matplotlib.pyplot as plt\n",
    "from collections import deque\n",
    "from scipy.stats import kstest, laplace\n",
    "# from ucimlrepo import fetch_ucirepo\n",
    "import hashlib\n",
    "import struct\n",
    "import psutil\n",
    "import platform\n",
    "import math\n",
    "import pandas as pd\n",
    "import seaborn as sns"
   ]
  },
  {
   "cell_type": "code",
   "execution_count": 27,
   "id": "ca9bee92",
   "metadata": {},
   "outputs": [],
   "source": [
    "def get_qrng_floats(n, min_val=0.0, max_val=1.0):\n",
    "    url = \"https://qrng.idqloud.com/api/1.0/double\"\n",
    "    headers = {\"X-API-KEY\": \"aTo4BKRvnc49uRWDk034zaua87vGRXKk9TMLdfkI\"}\n",
    "    max_chunk = 16\n",
    "    results = []\n",
    "    \n",
    "    # Split requests into chunks\n",
    "    for _ in range(n // max_chunk):\n",
    "        response = requests.get(\n",
    "            url,\n",
    "            headers=headers,\n",
    "            params={\n",
    "                \"min\": str(min_val),\n",
    "                \"max\": str(max_val),\n",
    "                \"quantity\": str(max_chunk)\n",
    "            }\n",
    "        )\n",
    "        response.raise_for_status()\n",
    "        results.extend(response.json()['data'])\n",
    "    \n",
    "    # Handle remaining numbers\n",
    "    remaining = n % max_chunk\n",
    "    if remaining > 0:\n",
    "        response = requests.get(\n",
    "            url,\n",
    "            headers=headers,\n",
    "            params={\n",
    "                \"min\": str(min_val),\n",
    "                \"max\": str(max_val),\n",
    "                \"quantity\": str(remaining)\n",
    "            }\n",
    "        )\n",
    "        response.raise_for_status()\n",
    "        results.extend(response.json()['data'])\n",
    "    \n",
    "    return np.array(results, dtype=np.float64)"
   ]
  },
  {
   "cell_type": "code",
   "execution_count": 28,
   "id": "f5e1ea8c",
   "metadata": {},
   "outputs": [],
   "source": [
    "def get_laplace_transform(P, epsilon):\n",
    "    # P is the scaled random numbers from get_qrng_floats()\n",
    "    # Epsilon is the threshold for privacy (smaller epsilon = more privacy = less utility)\n",
    "    b = 1 / epsilon\n",
    "    laplace = []\n",
    "    for p in P:\n",
    "        if p == 0:\n",
    "            laplace.append(float('-inf'))\n",
    "        elif p < 0.5:\n",
    "            laplace.append(b * math.log(2 * p))\n",
    "        else:\n",
    "            laplace.append(-b * math.log(2 * (1 - p)))\n",
    "    return laplace"
   ]
  },
  {
   "cell_type": "code",
   "execution_count": 29,
   "id": "cb1423d3",
   "metadata": {},
   "outputs": [
    {
     "name": "stdout",
     "output_type": "stream",
     "text": [
      "[0.70152392 0.67845053 0.71690255 0.40179028 0.12719178 0.33962871\n",
      " 0.92603769 0.87884572 0.22920302 0.78790552 0.16140213 0.30313347\n",
      " 0.07693561 0.94576213 0.91338466 0.65730861 0.98510114 0.42055772\n",
      " 0.09576694 0.08242835 0.28114809 0.48650199 0.90066282 0.25858789\n",
      " 0.89164025 0.86962352 0.9787011  0.21177352 0.51910894 0.57974425\n",
      " 0.65866921 0.0145996  0.92584522 0.50989341 0.35410654 0.55877478\n",
      " 0.22309268 0.60165705 0.26439481 0.98148661]\n"
     ]
    }
   ],
   "source": [
    "random_numbers = get_qrng_floats(40)\n",
    "print(random_numbers)\n"
   ]
  },
  {
   "cell_type": "code",
   "execution_count": 30,
   "id": "aac0a8a7",
   "metadata": {},
   "outputs": [],
   "source": [
    "epsilon = 0.25\n",
    "laplace_transform = get_laplace_transform(random_numbers, epsilon)"
   ]
  },
  {
   "cell_type": "code",
   "execution_count": 31,
   "id": "3ab2d180",
   "metadata": {},
   "outputs": [],
   "source": [
    "size = 20\n",
    "\n",
    "changes = -np.random.poisson(2, size)\n",
    "positive = 324 + np.maximum.reduce([changes, np.random.normal(0, 4, size).astype(int)]).cumsum()\n",
    "total = 100000 + changes.cumsum()"
   ]
  },
  {
   "cell_type": "code",
   "execution_count": 32,
   "id": "2ee48949",
   "metadata": {},
   "outputs": [],
   "source": [
    "hiv_df = pd.DataFrame(np.array([positive, total]).T, columns=[\"Positive\", \"Total\"])\n",
    "hiv_df.index = range(2000, 2020)"
   ]
  },
  {
   "cell_type": "code",
   "execution_count": 33,
   "id": "d4ff514c",
   "metadata": {},
   "outputs": [],
   "source": [
    "hiv_df[\"Percent\"] = hiv_df[\"Positive\"] / hiv_df[\"Total\"]"
   ]
  },
  {
   "cell_type": "code",
   "execution_count": 34,
   "id": "39282072",
   "metadata": {},
   "outputs": [
    {
     "data": {
      "text/html": [
       "<div>\n",
       "<style scoped>\n",
       "    .dataframe tbody tr th:only-of-type {\n",
       "        vertical-align: middle;\n",
       "    }\n",
       "\n",
       "    .dataframe tbody tr th {\n",
       "        vertical-align: top;\n",
       "    }\n",
       "\n",
       "    .dataframe thead th {\n",
       "        text-align: right;\n",
       "    }\n",
       "</style>\n",
       "<table border=\"1\" class=\"dataframe\">\n",
       "  <thead>\n",
       "    <tr style=\"text-align: right;\">\n",
       "      <th></th>\n",
       "      <th>Positive</th>\n",
       "      <th>Total</th>\n",
       "      <th>Percent</th>\n",
       "    </tr>\n",
       "  </thead>\n",
       "  <tbody>\n",
       "    <tr>\n",
       "      <th>2000</th>\n",
       "      <td>320</td>\n",
       "      <td>99996</td>\n",
       "      <td>0.003200</td>\n",
       "    </tr>\n",
       "    <tr>\n",
       "      <th>2001</th>\n",
       "      <td>321</td>\n",
       "      <td>99994</td>\n",
       "      <td>0.003210</td>\n",
       "    </tr>\n",
       "    <tr>\n",
       "      <th>2002</th>\n",
       "      <td>328</td>\n",
       "      <td>99991</td>\n",
       "      <td>0.003280</td>\n",
       "    </tr>\n",
       "    <tr>\n",
       "      <th>2003</th>\n",
       "      <td>334</td>\n",
       "      <td>99987</td>\n",
       "      <td>0.003340</td>\n",
       "    </tr>\n",
       "    <tr>\n",
       "      <th>2004</th>\n",
       "      <td>334</td>\n",
       "      <td>99986</td>\n",
       "      <td>0.003340</td>\n",
       "    </tr>\n",
       "    <tr>\n",
       "      <th>2005</th>\n",
       "      <td>334</td>\n",
       "      <td>99983</td>\n",
       "      <td>0.003341</td>\n",
       "    </tr>\n",
       "    <tr>\n",
       "      <th>2006</th>\n",
       "      <td>331</td>\n",
       "      <td>99980</td>\n",
       "      <td>0.003311</td>\n",
       "    </tr>\n",
       "    <tr>\n",
       "      <th>2007</th>\n",
       "      <td>329</td>\n",
       "      <td>99977</td>\n",
       "      <td>0.003291</td>\n",
       "    </tr>\n",
       "    <tr>\n",
       "      <th>2008</th>\n",
       "      <td>331</td>\n",
       "      <td>99971</td>\n",
       "      <td>0.003311</td>\n",
       "    </tr>\n",
       "    <tr>\n",
       "      <th>2009</th>\n",
       "      <td>329</td>\n",
       "      <td>99969</td>\n",
       "      <td>0.003291</td>\n",
       "    </tr>\n",
       "    <tr>\n",
       "      <th>2010</th>\n",
       "      <td>335</td>\n",
       "      <td>99969</td>\n",
       "      <td>0.003351</td>\n",
       "    </tr>\n",
       "    <tr>\n",
       "      <th>2011</th>\n",
       "      <td>333</td>\n",
       "      <td>99967</td>\n",
       "      <td>0.003331</td>\n",
       "    </tr>\n",
       "    <tr>\n",
       "      <th>2012</th>\n",
       "      <td>333</td>\n",
       "      <td>99966</td>\n",
       "      <td>0.003331</td>\n",
       "    </tr>\n",
       "    <tr>\n",
       "      <th>2013</th>\n",
       "      <td>333</td>\n",
       "      <td>99965</td>\n",
       "      <td>0.003331</td>\n",
       "    </tr>\n",
       "    <tr>\n",
       "      <th>2014</th>\n",
       "      <td>333</td>\n",
       "      <td>99965</td>\n",
       "      <td>0.003331</td>\n",
       "    </tr>\n",
       "    <tr>\n",
       "      <th>2015</th>\n",
       "      <td>339</td>\n",
       "      <td>99962</td>\n",
       "      <td>0.003391</td>\n",
       "    </tr>\n",
       "    <tr>\n",
       "      <th>2016</th>\n",
       "      <td>337</td>\n",
       "      <td>99960</td>\n",
       "      <td>0.003371</td>\n",
       "    </tr>\n",
       "    <tr>\n",
       "      <th>2017</th>\n",
       "      <td>334</td>\n",
       "      <td>99957</td>\n",
       "      <td>0.003341</td>\n",
       "    </tr>\n",
       "    <tr>\n",
       "      <th>2018</th>\n",
       "      <td>332</td>\n",
       "      <td>99953</td>\n",
       "      <td>0.003322</td>\n",
       "    </tr>\n",
       "    <tr>\n",
       "      <th>2019</th>\n",
       "      <td>336</td>\n",
       "      <td>99951</td>\n",
       "      <td>0.003362</td>\n",
       "    </tr>\n",
       "  </tbody>\n",
       "</table>\n",
       "</div>"
      ],
      "text/plain": [
       "      Positive  Total   Percent\n",
       "2000       320  99996  0.003200\n",
       "2001       321  99994  0.003210\n",
       "2002       328  99991  0.003280\n",
       "2003       334  99987  0.003340\n",
       "2004       334  99986  0.003340\n",
       "2005       334  99983  0.003341\n",
       "2006       331  99980  0.003311\n",
       "2007       329  99977  0.003291\n",
       "2008       331  99971  0.003311\n",
       "2009       329  99969  0.003291\n",
       "2010       335  99969  0.003351\n",
       "2011       333  99967  0.003331\n",
       "2012       333  99966  0.003331\n",
       "2013       333  99965  0.003331\n",
       "2014       333  99965  0.003331\n",
       "2015       339  99962  0.003391\n",
       "2016       337  99960  0.003371\n",
       "2017       334  99957  0.003341\n",
       "2018       332  99953  0.003322\n",
       "2019       336  99951  0.003362"
      ]
     },
     "metadata": {},
     "output_type": "display_data"
    }
   ],
   "source": [
    "display(hiv_df)"
   ]
  },
  {
   "cell_type": "code",
   "execution_count": 35,
   "id": "f2e6775c",
   "metadata": {},
   "outputs": [
    {
     "data": {
      "text/html": [
       "<div>\n",
       "<style scoped>\n",
       "    .dataframe tbody tr th:only-of-type {\n",
       "        vertical-align: middle;\n",
       "    }\n",
       "\n",
       "    .dataframe tbody tr th {\n",
       "        vertical-align: top;\n",
       "    }\n",
       "\n",
       "    .dataframe thead th {\n",
       "        text-align: right;\n",
       "    }\n",
       "</style>\n",
       "<table border=\"1\" class=\"dataframe\">\n",
       "  <thead>\n",
       "    <tr style=\"text-align: right;\">\n",
       "      <th></th>\n",
       "      <th>Positive</th>\n",
       "      <th>Total</th>\n",
       "      <th>Percent</th>\n",
       "    </tr>\n",
       "  </thead>\n",
       "  <tbody>\n",
       "    <tr>\n",
       "      <th>2000</th>\n",
       "      <td>322</td>\n",
       "      <td>99994</td>\n",
       "      <td>0.003220</td>\n",
       "    </tr>\n",
       "    <tr>\n",
       "      <th>2001</th>\n",
       "      <td>322</td>\n",
       "      <td>99994</td>\n",
       "      <td>0.003220</td>\n",
       "    </tr>\n",
       "    <tr>\n",
       "      <th>2002</th>\n",
       "      <td>330</td>\n",
       "      <td>99997</td>\n",
       "      <td>0.003300</td>\n",
       "    </tr>\n",
       "    <tr>\n",
       "      <th>2003</th>\n",
       "      <td>334</td>\n",
       "      <td>99985</td>\n",
       "      <td>0.003341</td>\n",
       "    </tr>\n",
       "    <tr>\n",
       "      <th>2004</th>\n",
       "      <td>329</td>\n",
       "      <td>99992</td>\n",
       "      <td>0.003290</td>\n",
       "    </tr>\n",
       "    <tr>\n",
       "      <th>2005</th>\n",
       "      <td>333</td>\n",
       "      <td>99988</td>\n",
       "      <td>0.003330</td>\n",
       "    </tr>\n",
       "    <tr>\n",
       "      <th>2006</th>\n",
       "      <td>338</td>\n",
       "      <td>99992</td>\n",
       "      <td>0.003380</td>\n",
       "    </tr>\n",
       "    <tr>\n",
       "      <th>2007</th>\n",
       "      <td>334</td>\n",
       "      <td>99974</td>\n",
       "      <td>0.003341</td>\n",
       "    </tr>\n",
       "    <tr>\n",
       "      <th>2008</th>\n",
       "      <td>328</td>\n",
       "      <td>99971</td>\n",
       "      <td>0.003281</td>\n",
       "    </tr>\n",
       "    <tr>\n",
       "      <th>2009</th>\n",
       "      <td>332</td>\n",
       "      <td>99969</td>\n",
       "      <td>0.003321</td>\n",
       "    </tr>\n",
       "    <tr>\n",
       "      <th>2010</th>\n",
       "      <td>331</td>\n",
       "      <td>99970</td>\n",
       "      <td>0.003311</td>\n",
       "    </tr>\n",
       "    <tr>\n",
       "      <th>2011</th>\n",
       "      <td>331</td>\n",
       "      <td>99953</td>\n",
       "      <td>0.003312</td>\n",
       "    </tr>\n",
       "    <tr>\n",
       "      <th>2012</th>\n",
       "      <td>326</td>\n",
       "      <td>99973</td>\n",
       "      <td>0.003261</td>\n",
       "    </tr>\n",
       "    <tr>\n",
       "      <th>2013</th>\n",
       "      <td>341</td>\n",
       "      <td>99965</td>\n",
       "      <td>0.003411</td>\n",
       "    </tr>\n",
       "    <tr>\n",
       "      <th>2014</th>\n",
       "      <td>340</td>\n",
       "      <td>99964</td>\n",
       "      <td>0.003401</td>\n",
       "    </tr>\n",
       "    <tr>\n",
       "      <th>2015</th>\n",
       "      <td>340</td>\n",
       "      <td>99962</td>\n",
       "      <td>0.003401</td>\n",
       "    </tr>\n",
       "    <tr>\n",
       "      <th>2016</th>\n",
       "      <td>351</td>\n",
       "      <td>99957</td>\n",
       "      <td>0.003512</td>\n",
       "    </tr>\n",
       "    <tr>\n",
       "      <th>2017</th>\n",
       "      <td>334</td>\n",
       "      <td>99957</td>\n",
       "      <td>0.003341</td>\n",
       "    </tr>\n",
       "    <tr>\n",
       "      <th>2018</th>\n",
       "      <td>326</td>\n",
       "      <td>99951</td>\n",
       "      <td>0.003262</td>\n",
       "    </tr>\n",
       "    <tr>\n",
       "      <th>2019</th>\n",
       "      <td>329</td>\n",
       "      <td>99964</td>\n",
       "      <td>0.003291</td>\n",
       "    </tr>\n",
       "  </tbody>\n",
       "</table>\n",
       "</div>"
      ],
      "text/plain": [
       "      Positive  Total   Percent\n",
       "2000       322  99994  0.003220\n",
       "2001       322  99994  0.003220\n",
       "2002       330  99997  0.003300\n",
       "2003       334  99985  0.003341\n",
       "2004       329  99992  0.003290\n",
       "2005       333  99988  0.003330\n",
       "2006       338  99992  0.003380\n",
       "2007       334  99974  0.003341\n",
       "2008       328  99971  0.003281\n",
       "2009       332  99969  0.003321\n",
       "2010       331  99970  0.003311\n",
       "2011       331  99953  0.003312\n",
       "2012       326  99973  0.003261\n",
       "2013       341  99965  0.003411\n",
       "2014       340  99964  0.003401\n",
       "2015       340  99962  0.003401\n",
       "2016       351  99957  0.003512\n",
       "2017       334  99957  0.003341\n",
       "2018       326  99951  0.003262\n",
       "2019       329  99964  0.003291"
      ]
     },
     "metadata": {},
     "output_type": "display_data"
    }
   ],
   "source": [
    "hiv_df_differential_privacy = hiv_df.copy(deep=True)\n",
    "hiv_df_differential_privacy[\"Positive\"] = hiv_df[\"Positive\"] + np.array(laplace_transform[:20]).astype(int)\n",
    "hiv_df_differential_privacy[\"Total\"] = hiv_df[\"Total\"] + np.array(laplace_transform[20:]).astype(int)\n",
    "hiv_df_differential_privacy[\"Percent\"] = hiv_df_differential_privacy[\"Positive\"] / hiv_df_differential_privacy[\"Total\"]\n",
    "\n",
    "display(hiv_df_differential_privacy)"
   ]
  },
  {
   "cell_type": "code",
   "execution_count": 36,
   "id": "3801dff7",
   "metadata": {},
   "outputs": [],
   "source": [
    "hiv_df.to_csv(\"hiv_data.csv\", index=True)\n",
    "hiv_df_differential_privacy.to_csv(\"hiv_data_dp.csv\", index=True)"
   ]
  },
  {
   "cell_type": "code",
   "execution_count": 7,
   "id": "b2f67561",
   "metadata": {},
   "outputs": [],
   "source": [
    "hiv_df = pd.read_csv(\"hiv_data.csv\", index_col=0)\n",
    "hiv_df_differential_privacy = pd.read_csv(\"hiv_data_dp.csv\", index_col=0)"
   ]
  },
  {
   "cell_type": "code",
   "execution_count": 18,
   "id": "21022e2f",
   "metadata": {},
   "outputs": [
    {
     "name": "stdout",
     "output_type": "stream",
     "text": [
      "Correlation between Positive columns (after removing outliers): 0.3878\n",
      "Correlation between Total columns: 0.9205\n"
     ]
    }
   ],
   "source": [
    "# Calculate IQR for the 'Positive' column\n",
    "q1 = hiv_df['Positive'].quantile(0.25)\n",
    "q3 = hiv_df['Positive'].quantile(0.75)\n",
    "iqr = q3 - q1\n",
    "\n",
    "# Define bounds for outliers\n",
    "lower_bound = q1 - 1.5 * iqr\n",
    "upper_bound = q3 + 1.5 * iqr\n",
    "\n",
    "# Filter out rows with outliers in the 'Positive' column\n",
    "filtered_hiv_df = hiv_df[(hiv_df['Positive'] >= lower_bound) & (hiv_df['Positive'] <= upper_bound)]\n",
    "filtered_hiv_df_differential_privacy = hiv_df_differential_privacy.loc[filtered_hiv_df.index]\n",
    "\n",
    "# Recalculate correlation after removing outliers\n",
    "positive_corr = np.corrcoef(filtered_hiv_df['Positive'], filtered_hiv_df_differential_privacy['Positive'])[0, 1]\n",
    "total_corr = np.corrcoef(hiv_df['Total'], hiv_df_differential_privacy['Total'])[0, 1]\n",
    "\n",
    "print(f\"Correlation between Positive columns (after removing outliers): {positive_corr:.4f}\")\n",
    "print(f\"Correlation between Total columns: {total_corr:.4f}\")\n"
   ]
  },
  {
   "cell_type": "code",
   "execution_count": 21,
   "id": "e4111ab0",
   "metadata": {},
   "outputs": [
    {
     "data": {
      "image/png": "[encoded data removed]",
      "text/plain": [
       "<Figure size 500x500 with 1 Axes>"
      ]
     },
     "metadata": {},
     "output_type": "display_data"
    },
    {
     "data": {
      "image/png": "[encoded data removed]",
      "text/plain": [
       "<Figure size 500x500 with 1 Axes>"
      ]
     },
     "metadata": {},
     "output_type": "display_data"
    }
   ],
   "source": [
    "sns.lmplot(x='Positive No DP', y='Positive DP', data=pd.DataFrame({\n",
    "    'Positive No DP': filtered_hiv_df['Positive'],\n",
    "    'Positive DP': filtered_hiv_df_differential_privacy['Positive']\n",
    "}))\n",
    "plt.title('Linear Fit for Positive Correlation')\n",
    "plt.tight_layout()\n",
    "plt.show()\n",
    "\n",
    "sns.lmplot(x='Total No DP', y='Total DP', data=pd.DataFrame({\n",
    "    'Total No DP': filtered_hiv_df['Total'],\n",
    "    'Total DP': filtered_hiv_df_differential_privacy['Total']\n",
    "}))\n",
    "plt.title('Linear Fit for Total Correlation')\n",
    "plt.tight_layout()\n",
    "plt.show()\n"
   ]
  },
  {
   "cell_type": "code",
   "execution_count": 60,
   "id": "da2fc89e",
   "metadata": {},
   "outputs": [
    {
     "data": {
      "image/png": "[encoded data removed]",
      "text/plain": [
       "<Figure size 640x480 with 1 Axes>"
      ]
     },
     "metadata": {},
     "output_type": "display_data"
    },
    {
     "data": {
      "image/png": "[encoded data removed]",
      "text/plain": [
       "<Figure size 640x480 with 1 Axes>"
      ]
     },
     "metadata": {},
     "output_type": "display_data"
    }
   ],
   "source": [
    "import matplotlib.pyplot as plt\n",
    "\n",
    "def plot_cdf_vs_laplace(series, title):\n",
    "    data = series.dropna().values\n",
    "    data.sort()\n",
    "\n",
    "    loc = np.median(data)\n",
    "    scale = np.mean(np.abs(data - loc))\n",
    "\n",
    "    # CDF from observed/empircal data\n",
    "    ecdf = np.arange(1, len(data)+1) / len(data)\n",
    "    # Theoretical CDF\n",
    "    laplace_cdf = laplace.cdf(data, loc=loc, scale=scale)\n",
    "\n",
    "    plt.plot(data, ecdf, drawstyle='steps-post', label='Empirical CDF')\n",
    "    plt.plot(data, laplace_cdf, linestyle='--', label='Laplace CDF')\n",
    "    plt.title(title)\n",
    "    plt.xlabel(\"Value\")\n",
    "    plt.ylabel(\"CDF\")\n",
    "    plt.legend()\n",
    "    plt.grid(True)\n",
    "    plt.tight_layout()\n",
    "    plt.show()\n",
    "\n",
    "plot_cdf_vs_laplace(hiv_df_differential_privacy['Positive'] - hiv_df['Positive'], \"Positive Noise vs Laplace CDF\")\n",
    "plot_cdf_vs_laplace(hiv_df_differential_privacy['Total'] - hiv_df['Total'], \"Total Noise vs Laplace CDF\")\n"
   ]
  },
  {
   "cell_type": "code",
   "execution_count": null,
   "id": "bb06abca",
   "metadata": {},
   "outputs": [],
   "source": [
    "columns = [\n",
    "    'age', 'class_of_worker', 'detailed_industry_recode', 'detailed_occupation_recode',\n",
    "    'education', 'wage_per_hour', 'enroll_in_edu_inst_last_wk', 'marital_status',\n",
    "    'major_industry_code', 'major_occupation_code', 'race', 'hispanic_origin',\n",
    "    'sex', 'member_of_labor_union', 'reason_for_unemployment', 'full_or_part_time_employment_stat',\n",
    "    'capital_gains', 'capital_losses', 'dividends_from_stocks', 'tax_filer_status',\n",
    "    'region_of_previous_residence', 'state_of_previous_residence', 'detailed_household_and_family_stat',\n",
    "    'detailed_household_summary_in_household', 'instance_weight', 'migration_code_change_in_msa',\n",
    "    'migration_code_change_in_reg', 'migration_code_move_within_reg', 'live_in_this_house_1_year_ago',\n",
    "    'migration_prev_res_in_sunbelt', 'num_persons_worked_for_employer', 'family_members_under_18',\n",
    "    'country_of_birth_father', 'country_of_birth_mother', 'country_of_birth_self',\n",
    "    'citizenship', 'own_business_or_self_employed', 'fill_inc_questionnaire_for_veterans_admin',\n",
    "    'veterans_benefits', 'weeks_worked_in_year', 'year', 'income'\n",
    "]\n",
    "# fetch dataset \n",
    "census_income_kdd = fetch_ucirepo(id=117) "
   ]
  },
  {
   "cell_type": "code",
   "execution_count": 71,
   "id": "347a0bf2",
   "metadata": {},
   "outputs": [
    {
     "name": "stdout",
     "output_type": "stream",
     "text": [
      "        age                  class_of_worker  detailed_industry_recode  \\\n",
      "0        73                  Not in universe                         0   \n",
      "1        58   Self-employed-not incorporated                         4   \n",
      "2        18                  Not in universe                         0   \n",
      "3         9                  Not in universe                         0   \n",
      "4        10                  Not in universe                         0   \n",
      "...     ...                              ...                       ...   \n",
      "199518   87                  Not in universe                         0   \n",
      "199519   65       Self-employed-incorporated                        37   \n",
      "199520   47                  Not in universe                         0   \n",
      "199521   16                  Not in universe                         0   \n",
      "199522   32                          Private                        42   \n",
      "\n",
      "        detailed_occupation_recode                    education  \\\n",
      "0                                0         High school graduate   \n",
      "1                               34   Some college but no degree   \n",
      "2                                0                   10th grade   \n",
      "3                                0                     Children   \n",
      "4                                0                     Children   \n",
      "...                            ...                          ...   \n",
      "199518                           0            7th and 8th grade   \n",
      "199519                           2                   11th grade   \n",
      "199520                           0   Some college but no degree   \n",
      "199521                           0                   10th grade   \n",
      "199522                          30         High school graduate   \n",
      "\n",
      "           wage_per_hour        enroll_in_edu_inst_last_wk  \\\n",
      "0        Not in universe                           Widowed   \n",
      "1        Not in universe                          Divorced   \n",
      "2            High school                     Never married   \n",
      "3        Not in universe                     Never married   \n",
      "4        Not in universe                     Never married   \n",
      "...                  ...                               ...   \n",
      "199518   Not in universe   Married-civilian spouse present   \n",
      "199519   Not in universe   Married-civilian spouse present   \n",
      "199520   Not in universe   Married-civilian spouse present   \n",
      "199521       High school                     Never married   \n",
      "199522   Not in universe                     Never married   \n",
      "\n",
      "                       marital_status                   major_industry_code  \\\n",
      "0         Not in universe or children                       Not in universe   \n",
      "1                        Construction   Precision production craft & repair   \n",
      "2         Not in universe or children                       Not in universe   \n",
      "3         Not in universe or children                       Not in universe   \n",
      "4         Not in universe or children                       Not in universe   \n",
      "...                               ...                                   ...   \n",
      "199518    Not in universe or children                       Not in universe   \n",
      "199519   Business and repair services        Executive admin and managerial   \n",
      "199520    Not in universe or children                       Not in universe   \n",
      "199521    Not in universe or children                       Not in universe   \n",
      "199522        Medical except hospital                         Other service   \n",
      "\n",
      "             major_occupation_code  ... country_of_birth_father  \\\n",
      "0                            White  ...           United-States   \n",
      "1                            White  ...           United-States   \n",
      "2        Asian or Pacific Islander  ...                 Vietnam   \n",
      "3                            White  ...           United-States   \n",
      "4                            White  ...           United-States   \n",
      "...                            ...  ...                     ...   \n",
      "199518                       White  ...           United-States   \n",
      "199519                       White  ...           United-States   \n",
      "199520                       White  ...                  Poland   \n",
      "199521                       White  ...           United-States   \n",
      "199522                       Black  ...                     NaN   \n",
      "\n",
      "       country_of_birth_mother                         country_of_birth_self  \\\n",
      "0                United-States             Native- Born in the United States   \n",
      "1                United-States             Native- Born in the United States   \n",
      "2                      Vietnam           Foreign born- Not a citizen of U S    \n",
      "3                United-States             Native- Born in the United States   \n",
      "4                United-States             Native- Born in the United States   \n",
      "...                        ...                                           ...   \n",
      "199518           United-States             Native- Born in the United States   \n",
      "199519           United-States             Native- Born in the United States   \n",
      "199520                 Germany   Foreign born- U S citizen by naturalization   \n",
      "199521           United-States             Native- Born in the United States   \n",
      "199522                     NaN           Foreign born- Not a citizen of U S    \n",
      "\n",
      "       citizenship own_business_or_self_employed  \\\n",
      "0                0               Not in universe   \n",
      "1                0               Not in universe   \n",
      "2                0               Not in universe   \n",
      "3                0               Not in universe   \n",
      "4                0               Not in universe   \n",
      "...            ...                           ...   \n",
      "199518           0               Not in universe   \n",
      "199519           0               Not in universe   \n",
      "199520           0               Not in universe   \n",
      "199521           0               Not in universe   \n",
      "199522           0               Not in universe   \n",
      "\n",
      "        fill_inc_questionnaire_for_veterans_admin  veterans_benefits  \\\n",
      "0                                               2                  0   \n",
      "1                                               2                 52   \n",
      "2                                               2                  0   \n",
      "3                                               0                  0   \n",
      "4                                               0                  0   \n",
      "...                                           ...                ...   \n",
      "199518                                          2                  0   \n",
      "199519                                          2                 52   \n",
      "199520                                          2                 52   \n",
      "199521                                          2                  0   \n",
      "199522                                          2                 52   \n",
      "\n",
      "        weeks_worked_in_year year  income  \n",
      "0                          0   95  -50000  \n",
      "1                          0   94  -50000  \n",
      "2                          0   95  -50000  \n",
      "3                          0   94  -50000  \n",
      "4                          0   94  -50000  \n",
      "...                      ...  ...     ...  \n",
      "199518                     0   95  -50000  \n",
      "199519                     0   94  -50000  \n",
      "199520                     0   95  -50000  \n",
      "199521                     0   95  -50000  \n",
      "199522                     0   94  -50000  \n",
      "\n",
      "[199523 rows x 42 columns]\n"
     ]
    }
   ],
   "source": [
    "df_features = census_income_kdd.data.features \n",
    "df_targets = census_income_kdd.data.targets \n",
    "\n",
    "# include everything BUT income\n",
    "df_features.columns = columns[:-1]\n",
    "# include ONLY income\n",
    "df_targets.columns = [columns[-1]]\n",
    "\n",
    "df = pd.concat([df_features, df_targets], axis=1)\n",
    "\n",
    "print(df)"
   ]
  },
  {
   "cell_type": "code",
   "execution_count": 73,
   "id": "a85c390f",
   "metadata": {},
   "outputs": [
    {
     "name": "stdout",
     "output_type": "stream",
     "text": [
      "True counts per education level:\n",
      "education\n",
      "High school graduate                      48407\n",
      "Children                                  47422\n",
      "Some college but no degree                27820\n",
      "Bachelors degree(BA AB BS)                19865\n",
      "7th and 8th grade                          8007\n",
      "10th grade                                 7557\n",
      "11th grade                                 6876\n",
      "Masters degree(MA MS MEng MEd MSW MBA)     6541\n",
      "9th grade                                  6230\n",
      "Associates degree-occup /vocational        5358\n",
      "Associates degree-academic program         4363\n",
      "5th or 6th grade                           3277\n",
      "12th grade no diploma                      2126\n",
      "1st 2nd 3rd or 4th grade                   1799\n",
      "Prof school degree (MD DDS DVM LLB JD)     1793\n",
      "Doctorate degree(PhD EdD)                  1263\n",
      "Less than 1st grade                         819\n",
      "Name: count, dtype: int64\n"
     ]
    }
   ],
   "source": [
    "# Example: searching dataset by education level\n",
    "counts = df['education'].value_counts()\n",
    "print(\"True counts per education level:\")\n",
    "print(counts)"
   ]
  },
  {
   "cell_type": "code",
   "execution_count": 74,
   "id": "ede73e69",
   "metadata": {},
   "outputs": [],
   "source": [
    "n = len(counts)\n",
    "random_numbers = get_qrng_floats(n)\n",
    "epsilon = 0.25\n",
    "laplace_noise = get_laplace_transform(random_numbers, epsilon)\n",
    "privatized_counts = [max(0, count + noise) for count, noise in zip(counts.values, laplace_noise)]"
   ]
  },
  {
   "cell_type": "code",
   "execution_count": 75,
   "id": "1f2cbbf8",
   "metadata": {},
   "outputs": [
    {
     "name": "stdout",
     "output_type": "stream",
     "text": [
      "                                   Category  True Count  Privatized Count\n",
      "0                      High school graduate       48407             48405\n",
      "1                                  Children       47422             47420\n",
      "2                Some college but no degree       27820             27827\n",
      "3                Bachelors degree(BA AB BS)       19865             19862\n",
      "4                         7th and 8th grade        8007              8003\n",
      "5                                10th grade        7557              7559\n",
      "6                                11th grade        6876              6875\n",
      "7    Masters degree(MA MS MEng MEd MSW MBA)        6541              6538\n",
      "8                                 9th grade        6230              6232\n",
      "9       Associates degree-occup /vocational        5358              5347\n",
      "10       Associates degree-academic program        4363              4360\n",
      "11                         5th or 6th grade        3277              3279\n",
      "12                    12th grade no diploma        2126              2125\n",
      "13                 1st 2nd 3rd or 4th grade        1799              1799\n",
      "14   Prof school degree (MD DDS DVM LLB JD)        1793              1793\n",
      "15                Doctorate degree(PhD EdD)        1263              1262\n",
      "16                      Less than 1st grade         819               817\n"
     ]
    }
   ],
   "source": [
    "df_plot = pd.DataFrame({\n",
    "    'Category': counts.index,\n",
    "    'True Count': counts.values,\n",
    "    # 'Privatized Count': privatized_counts\n",
    "    'Privatized Count': [int(x) for x in privatized_counts]\n",
    "})\n",
    "\n",
    "print(df_plot)"
   ]
  },
  {
   "cell_type": "code",
   "execution_count": null,
   "id": "fe87e155",
   "metadata": {},
   "outputs": [
    {
     "name": "stdout",
     "output_type": "stream",
     "text": [
      "True Counts Mean: 11736.64705882353\n",
      "Privatized Counts Mean: 11735.70588235294\n"
     ]
    },
    {
     "data": {
      "image/png": "[encoded data removed]",
      "text/plain": [
       "<Figure size 640x480 with 1 Axes>"
      ]
     },
     "metadata": {},
     "output_type": "display_data"
    },
    {
     "data": {
      "image/png": "[encoded data removed]",
      "text/plain": [
       "<Figure size 640x480 with 1 Axes>"
      ]
     },
     "metadata": {},
     "output_type": "display_data"
    }
   ],
   "source": [
    "privatized_counts_series = pd.Series([int(x) for x in privatized_counts], index=counts.index)\n",
    "\n",
    "print(\"True Counts Mean:\", counts.mean())\n",
    "print(\"Privatized Counts Mean:\", privatized_counts_series.mean())\n",
    "\n",
    "# Plot CDF of privatized counts\n",
    "plot_cdf_vs_laplace(privatized_counts_series, \"Privatized Education Counts vs Laplace CDF\")\n",
    "\n",
    "# Compute differences between privatized and true counts\n",
    "differences = privatized_counts_series - counts\n",
    "\n",
    "# Plot CDF of differences to verify noise distribution\n",
    "plot_cdf_vs_laplace(differences, \"Noise in Education Counts vs Laplace CDF\")"
   ]
  },
  {
   "cell_type": "code",
   "execution_count": 42,
   "id": "d09593f3",
   "metadata": {},
   "outputs": [
    {
     "name": "stdout",
     "output_type": "stream",
     "text": [
      "KS statistic = 0.1400, p-value = 0.8483\n"
     ]
    }
   ],
   "source": [
    "differences = privatized_counts_series - counts\n",
    "statistic, p_value = kstest(differences, 'laplace', args=(0, 4))\n",
    "print(f\"KS statistic = {statistic:.4f}, p-value = {p_value:.4f}\")"
   ]
  }
 ],
 "metadata": {
  "kernelspec": {
   "display_name": "qrandom",
   "language": "python",
   "name": "python3"
  },
  "language_info": {
   "codemirror_mode": {
    "name": "ipython",
    "version": 3
   },
   "file_extension": ".py",
   "mimetype": "text/x-python",
   "name": "python",
   "nbconvert_exporter": "python",
   "pygments_lexer": "ipython3",
   "version": "3.12.9"
  }
 },
 "nbformat": 4,
 "nbformat_minor": 5
}
