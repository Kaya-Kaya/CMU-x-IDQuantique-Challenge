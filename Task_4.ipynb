{
 "cells": [
  {
   "cell_type": "markdown",
   "id": "65065fb6",
   "metadata": {},
   "source": [
    "# Task 4: Demonstrating Quantum Advantage"
   ]
  },
  {
   "cell_type": "code",
   "execution_count": 8,
   "id": "4ab73f7d",
   "metadata": {},
   "outputs": [
    {
     "data": {
      "text/plain": [
       "\"\\nThis task is intentionally open-ended, so no boilerplate code is provided.\\n\\nYou may use this notebook to develop your solution, or create a separate file if you prefer.\\nWe recommend starting by copying over your previous implementations of the QRNG, TRNG, and PRNG.\\nThen, explore ways to modularize and combine these components to design a use case that\\ndemonstrates the unique advantages of quantum randomness.\\n\\nYour write-up can be included directly in this notebook or submitted separately.\\nYou're welcome to prepare it as a Google Doc or LaTeX document and upload a PDF to the GitHub repository—\\njust be sure to clearly indicate where it can be found if it's not included here.\\n\""
      ]
     },
     "execution_count": 8,
     "metadata": {},
     "output_type": "execute_result"
    }
   ],
   "source": [
    "\"\"\"\n",
    "This task is intentionally open-ended, so no boilerplate code is provided.\n",
    "\n",
    "You may use this notebook to develop your solution, or create a separate file if you prefer.\n",
    "We recommend starting by copying over your previous implementations of the QRNG, TRNG, and PRNG.\n",
    "Then, explore ways to modularize and combine these components to design a use case that\n",
    "demonstrates the unique advantages of quantum randomness.\n",
    "\n",
    "Your write-up can be included directly in this notebook or submitted separately.\n",
    "You're welcome to prepare it as a Google Doc or LaTeX document and upload a PDF to the GitHub repository—\n",
    "just be sure to clearly indicate where it can be found if it's not included here.\n",
    "\"\"\""
   ]
  },
  {
   "cell_type": "code",
   "execution_count": 30,
   "id": "6affe31e",
   "metadata": {},
   "outputs": [
    {
     "name": "stdout",
     "output_type": "stream",
     "text": [
      "Requirement already satisfied: requests in c:\\users\\darea\\appdata\\roaming\\python\\python311\\site-packages (2.31.0)\n",
      "Requirement already satisfied: charset-normalizer<4,>=2 in c:\\users\\darea\\appdata\\roaming\\python\\python311\\site-packages (from requests) (3.1.0)\n",
      "Requirement already satisfied: idna<4,>=2.5 in c:\\users\\darea\\appdata\\roaming\\python\\python311\\site-packages (from requests) (3.4)\n",
      "Requirement already satisfied: urllib3<3,>=1.21.1 in c:\\users\\darea\\appdata\\roaming\\python\\python311\\site-packages (from requests) (2.2.1)\n",
      "Requirement already satisfied: certifi>=2017.4.17 in c:\\users\\darea\\appdata\\roaming\\python\\python311\\site-packages (from requests) (2024.2.2)\n",
      "Note: you may need to restart the kernel to use updated packages.\n"
     ]
    },
    {
     "name": "stderr",
     "output_type": "stream",
     "text": [
      "\n",
      "[notice] A new release of pip available: 22.3.1 -> 25.1.1\n",
      "[notice] To update, run: python.exe -m pip install --upgrade pip\n"
     ]
    },
    {
     "name": "stdout",
     "output_type": "stream",
     "text": [
      "Requirement already satisfied: numpy in c:\\users\\darea\\appdata\\roaming\\python\\python311\\site-packages (1.26.3)\n",
      "Note: you may need to restart the kernel to use updated packages.\n"
     ]
    },
    {
     "name": "stderr",
     "output_type": "stream",
     "text": [
      "\n",
      "[notice] A new release of pip available: 22.3.1 -> 25.1.1\n",
      "[notice] To update, run: python.exe -m pip install --upgrade pip\n"
     ]
    },
    {
     "name": "stdout",
     "output_type": "stream",
     "text": [
      "Requirement already satisfied: matplotlib in c:\\program files\\python311\\lib\\site-packages (3.10.3)\n",
      "Requirement already satisfied: contourpy>=1.0.1 in c:\\program files\\python311\\lib\\site-packages (from matplotlib) (1.3.2)\n",
      "Requirement already satisfied: cycler>=0.10 in c:\\program files\\python311\\lib\\site-packages (from matplotlib) (0.12.1)\n",
      "Requirement already satisfied: fonttools>=4.22.0 in c:\\program files\\python311\\lib\\site-packages (from matplotlib) (4.58.0)\n",
      "Requirement already satisfied: kiwisolver>=1.3.1 in c:\\program files\\python311\\lib\\site-packages (from matplotlib) (1.4.8)\n",
      "Requirement already satisfied: numpy>=1.23 in c:\\users\\darea\\appdata\\roaming\\python\\python311\\site-packages (from matplotlib) (1.26.3)\n",
      "Requirement already satisfied: packaging>=20.0 in c:\\users\\darea\\appdata\\roaming\\python\\python311\\site-packages (from matplotlib) (23.2)\n",
      "Requirement already satisfied: pillow>=8 in c:\\users\\darea\\appdata\\roaming\\python\\python311\\site-packages (from matplotlib) (10.2.0)\n",
      "Requirement already satisfied: pyparsing>=2.3.1 in c:\\program files\\python311\\lib\\site-packages (from matplotlib) (3.2.3)\n",
      "Requirement already satisfied: python-dateutil>=2.7 in c:\\users\\darea\\appdata\\roaming\\python\\python311\\site-packages (from matplotlib) (2.9.0.post0)\n",
      "Requirement already satisfied: six>=1.5 in c:\\users\\darea\\appdata\\roaming\\python\\python311\\site-packages (from python-dateutil>=2.7->matplotlib) (1.16.0)\n",
      "Note: you may need to restart the kernel to use updated packages.\n"
     ]
    },
    {
     "name": "stderr",
     "output_type": "stream",
     "text": [
      "\n",
      "[notice] A new release of pip available: 22.3.1 -> 25.1.1\n",
      "[notice] To update, run: python.exe -m pip install --upgrade pip\n"
     ]
    },
    {
     "name": "stdout",
     "output_type": "stream",
     "text": [
      "Requirement already satisfied: pyaudio in c:\\program files\\python311\\lib\\site-packages (0.2.14)\n",
      "Note: you may need to restart the kernel to use updated packages.\n"
     ]
    },
    {
     "name": "stderr",
     "output_type": "stream",
     "text": [
      "\n",
      "[notice] A new release of pip available: 22.3.1 -> 25.1.1\n",
      "[notice] To update, run: python.exe -m pip install --upgrade pip\n"
     ]
    },
    {
     "name": "stdout",
     "output_type": "stream",
     "text": [
      "Requirement already satisfied: psutil in c:\\users\\darea\\appdata\\roaming\\python\\python311\\site-packages (7.0.0)\n",
      "Note: you may need to restart the kernel to use updated packages.\n"
     ]
    },
    {
     "name": "stderr",
     "output_type": "stream",
     "text": [
      "\n",
      "[notice] A new release of pip available: 22.3.1 -> 25.1.1\n",
      "[notice] To update, run: python.exe -m pip install --upgrade pip\n"
     ]
    },
    {
     "name": "stdout",
     "output_type": "stream",
     "text": [
      "Requirement already satisfied: pandas in c:\\users\\darea\\appdata\\roaming\\python\\python311\\site-packages (2.2.1)\n",
      "Requirement already satisfied: numpy<2,>=1.23.2 in c:\\users\\darea\\appdata\\roaming\\python\\python311\\site-packages (from pandas) (1.26.3)\n",
      "Requirement already satisfied: python-dateutil>=2.8.2 in c:\\users\\darea\\appdata\\roaming\\python\\python311\\site-packages (from pandas) (2.9.0.post0)\n",
      "Requirement already satisfied: pytz>=2020.1 in c:\\users\\darea\\appdata\\roaming\\python\\python311\\site-packages (from pandas) (2024.1)\n",
      "Requirement already satisfied: tzdata>=2022.7 in c:\\users\\darea\\appdata\\roaming\\python\\python311\\site-packages (from pandas) (2024.1)\n",
      "Requirement already satisfied: six>=1.5 in c:\\users\\darea\\appdata\\roaming\\python\\python311\\site-packages (from python-dateutil>=2.8.2->pandas) (1.16.0)\n",
      "Note: you may need to restart the kernel to use updated packages.\n"
     ]
    },
    {
     "name": "stderr",
     "output_type": "stream",
     "text": [
      "\n",
      "[notice] A new release of pip available: 22.3.1 -> 25.1.1\n",
      "[notice] To update, run: python.exe -m pip install --upgrade pip\n"
     ]
    },
    {
     "name": "stdout",
     "output_type": "stream",
     "text": [
      "Requirement already satisfied: seaborn in c:\\program files\\python311\\lib\\site-packages (0.13.2)\n",
      "Requirement already satisfied: numpy!=1.24.0,>=1.20 in c:\\users\\darea\\appdata\\roaming\\python\\python311\\site-packages (from seaborn) (1.26.3)\n",
      "Requirement already satisfied: pandas>=1.2 in c:\\users\\darea\\appdata\\roaming\\python\\python311\\site-packages (from seaborn) (2.2.1)\n",
      "Requirement already satisfied: matplotlib!=3.6.1,>=3.4 in c:\\program files\\python311\\lib\\site-packages (from seaborn) (3.10.3)\n",
      "Requirement already satisfied: contourpy>=1.0.1 in c:\\program files\\python311\\lib\\site-packages (from matplotlib!=3.6.1,>=3.4->seaborn) (1.3.2)\n",
      "Requirement already satisfied: cycler>=0.10 in c:\\program files\\python311\\lib\\site-packages (from matplotlib!=3.6.1,>=3.4->seaborn) (0.12.1)\n",
      "Requirement already satisfied: fonttools>=4.22.0 in c:\\program files\\python311\\lib\\site-packages (from matplotlib!=3.6.1,>=3.4->seaborn) (4.58.0)\n",
      "Requirement already satisfied: kiwisolver>=1.3.1 in c:\\program files\\python311\\lib\\site-packages (from matplotlib!=3.6.1,>=3.4->seaborn) (1.4.8)\n",
      "Requirement already satisfied: packaging>=20.0 in c:\\users\\darea\\appdata\\roaming\\python\\python311\\site-packages (from matplotlib!=3.6.1,>=3.4->seaborn) (23.2)\n",
      "Requirement already satisfied: pillow>=8 in c:\\users\\darea\\appdata\\roaming\\python\\python311\\site-packages (from matplotlib!=3.6.1,>=3.4->seaborn) (10.2.0)\n",
      "Requirement already satisfied: pyparsing>=2.3.1 in c:\\program files\\python311\\lib\\site-packages (from matplotlib!=3.6.1,>=3.4->seaborn) (3.2.3)\n",
      "Requirement already satisfied: python-dateutil>=2.7 in c:\\users\\darea\\appdata\\roaming\\python\\python311\\site-packages (from matplotlib!=3.6.1,>=3.4->seaborn) (2.9.0.post0)\n",
      "Requirement already satisfied: pytz>=2020.1 in c:\\users\\darea\\appdata\\roaming\\python\\python311\\site-packages (from pandas>=1.2->seaborn) (2024.1)\n",
      "Requirement already satisfied: tzdata>=2022.7 in c:\\users\\darea\\appdata\\roaming\\python\\python311\\site-packages (from pandas>=1.2->seaborn) (2024.1)\n",
      "Requirement already satisfied: six>=1.5 in c:\\users\\darea\\appdata\\roaming\\python\\python311\\site-packages (from python-dateutil>=2.7->matplotlib!=3.6.1,>=3.4->seaborn) (1.16.0)\n",
      "Note: you may need to restart the kernel to use updated packages.\n"
     ]
    },
    {
     "name": "stderr",
     "output_type": "stream",
     "text": [
      "\n",
      "[notice] A new release of pip available: 22.3.1 -> 25.1.1\n",
      "[notice] To update, run: python.exe -m pip install --upgrade pip\n"
     ]
    }
   ],
   "source": [
    "%pip install requests\n",
    "%pip install numpy\n",
    "%pip install matplotlib\n",
    "%pip install pyaudio\n",
    "%pip install psutil\n",
    "%pip install pandas\n",
    "%pip install seaborn"
   ]
  },
  {
   "cell_type": "code",
   "execution_count": 1,
   "id": "7796a27e",
   "metadata": {},
   "outputs": [],
   "source": [
    "# Package Imports - feel free to add what you think might be useful! \n",
    "import requests\n",
    "import time\n",
    "import numpy as np\n",
    "import matplotlib.pyplot as plt\n",
    "from collections import deque\n",
    "import hashlib\n",
    "import struct\n",
    "import psutil\n",
    "import platform\n",
    "import math\n",
    "import pandas as pd\n",
    "import seaborn as sns"
   ]
  },
  {
   "cell_type": "code",
   "execution_count": 99,
   "id": "ca9bee92",
   "metadata": {},
   "outputs": [],
   "source": [
    "def get_qrng_floats(n, min_val=0.0, max_val=1.0):\n",
    "    url = \"https://qrng.idqloud.com/api/1.0/double\"\n",
    "    headers = {\"X-API-KEY\": \"aTo4BKRvnc49uRWDk034zaua87vGRXKk9TMLdfkI\"}\n",
    "    max_chunk = 16  # Match the `curl` test quantity=16\n",
    "    results = []\n",
    "    \n",
    "    # Split requests into chunks\n",
    "    for _ in range(n // max_chunk):\n",
    "        response = requests.get(\n",
    "            url,\n",
    "            headers=headers,\n",
    "            params={\n",
    "                \"min\": str(min_val),  # Force string to match curl\n",
    "                \"max\": str(max_val),\n",
    "                \"quantity\": str(max_chunk)\n",
    "            }\n",
    "        )\n",
    "        response.raise_for_status()\n",
    "        results.extend(response.json()['data'])\n",
    "    \n",
    "    # Handle remaining numbers\n",
    "    remaining = n % max_chunk\n",
    "    if remaining > 0:\n",
    "        response = requests.get(\n",
    "            url,\n",
    "            headers=headers,\n",
    "            params={\n",
    "                \"min\": str(min_val),\n",
    "                \"max\": str(max_val),\n",
    "                \"quantity\": str(remaining)\n",
    "            }\n",
    "        )\n",
    "        response.raise_for_status()\n",
    "        results.extend(response.json()['data'])\n",
    "    \n",
    "    return np.array(results, dtype=np.float64)"
   ]
  },
  {
   "cell_type": "code",
   "execution_count": 100,
   "id": "f5e1ea8c",
   "metadata": {},
   "outputs": [],
   "source": [
    "def get_laplace_transform(P, epsilon):\n",
    "    # P is the scaled random numbers from get_qrng_floats()\n",
    "    # Epsilon is the threshold for privacy (smaller epsilon = more privacy = less utility)\n",
    "    b = 1 / epsilon\n",
    "    laplace = []\n",
    "    for p in P:\n",
    "        if p == 0:\n",
    "            laplace.append(float('-inf'))\n",
    "        elif p < 0.5:\n",
    "            laplace.append(b * math.log(2 * p))\n",
    "        else:\n",
    "            laplace.append(-b * math.log(2 * (1 - p)))\n",
    "    return laplace"
   ]
  },
  {
   "cell_type": "code",
   "execution_count": 101,
   "id": "cb1423d3",
   "metadata": {},
   "outputs": [
    {
     "name": "stdout",
     "output_type": "stream",
     "text": [
      "[0.77145037 0.42067597 0.75062181 0.383505   0.39047837 0.68293278\n",
      " 0.21208515 0.44579232 0.45998322 0.23012131 0.06356909 0.4323949\n",
      " 0.12039368 0.52877089 0.0436408  0.43689631 0.66724651 0.91871519\n",
      " 0.13405051 0.70377661 0.25793851 0.93893339 0.30395972 0.31570916\n",
      " 0.48665599 0.9129015  0.35359731 0.93623255 0.36816968 0.96551461\n",
      " 0.24599069 0.76830701 0.81899748 0.93987945 0.60010681 0.556878\n",
      " 0.56797131 0.19688716 0.09961089 0.20999466]\n"
     ]
    }
   ],
   "source": [
    "random_numbers = get_qrng_floats(40)\n",
    "print(random_numbers)\n"
   ]
  },
  {
   "cell_type": "code",
   "execution_count": 102,
   "id": "aac0a8a7",
   "metadata": {},
   "outputs": [],
   "source": [
    "epsilon = 0.25\n",
    "laplace_transform = get_laplace_transform(random_numbers, epsilon)"
   ]
  },
  {
   "cell_type": "code",
   "execution_count": 103,
   "id": "3ab2d180",
   "metadata": {},
   "outputs": [],
   "source": [
    "size = 20\n",
    "\n",
    "changes = -np.random.poisson(2, size)\n",
    "positive = 324 + np.maximum.reduce([changes, np.random.normal(0, 4, size).astype(int)]).cumsum()\n",
    "total = 100000 + changes.cumsum()"
   ]
  },
  {
   "cell_type": "code",
   "execution_count": 104,
   "id": "2ee48949",
   "metadata": {},
   "outputs": [],
   "source": [
    "hiv_df = pd.DataFrame(np.array([positive, total]).T, columns=[\"Positive\", \"Total\"])\n",
    "hiv_df.index = range(2000, 2020)"
   ]
  },
  {
   "cell_type": "code",
   "execution_count": 105,
   "id": "d4ff514c",
   "metadata": {},
   "outputs": [],
   "source": [
    "hiv_df[\"Percent\"] = hiv_df[\"Positive\"] / hiv_df[\"Total\"]"
   ]
  },
  {
   "cell_type": "code",
   "execution_count": 106,
   "id": "39282072",
   "metadata": {},
   "outputs": [
    {
     "data": {
      "text/html": [
       "<div>\n",
       "<style scoped>\n",
       "    .dataframe tbody tr th:only-of-type {\n",
       "        vertical-align: middle;\n",
       "    }\n",
       "\n",
       "    .dataframe tbody tr th {\n",
       "        vertical-align: top;\n",
       "    }\n",
       "\n",
       "    .dataframe thead th {\n",
       "        text-align: right;\n",
       "    }\n",
       "</style>\n",
       "<table border=\"1\" class=\"dataframe\">\n",
       "  <thead>\n",
       "    <tr style=\"text-align: right;\">\n",
       "      <th></th>\n",
       "      <th>Positive</th>\n",
       "      <th>Total</th>\n",
       "      <th>Percent</th>\n",
       "    </tr>\n",
       "  </thead>\n",
       "  <tbody>\n",
       "    <tr>\n",
       "      <th>2000</th>\n",
       "      <td>328</td>\n",
       "      <td>99999</td>\n",
       "      <td>0.003280</td>\n",
       "    </tr>\n",
       "    <tr>\n",
       "      <th>2001</th>\n",
       "      <td>330</td>\n",
       "      <td>99998</td>\n",
       "      <td>0.003300</td>\n",
       "    </tr>\n",
       "    <tr>\n",
       "      <th>2002</th>\n",
       "      <td>330</td>\n",
       "      <td>99998</td>\n",
       "      <td>0.003300</td>\n",
       "    </tr>\n",
       "    <tr>\n",
       "      <th>2003</th>\n",
       "      <td>329</td>\n",
       "      <td>99997</td>\n",
       "      <td>0.003290</td>\n",
       "    </tr>\n",
       "    <tr>\n",
       "      <th>2004</th>\n",
       "      <td>334</td>\n",
       "      <td>99997</td>\n",
       "      <td>0.003340</td>\n",
       "    </tr>\n",
       "    <tr>\n",
       "      <th>2005</th>\n",
       "      <td>334</td>\n",
       "      <td>99997</td>\n",
       "      <td>0.003340</td>\n",
       "    </tr>\n",
       "    <tr>\n",
       "      <th>2006</th>\n",
       "      <td>334</td>\n",
       "      <td>99995</td>\n",
       "      <td>0.003340</td>\n",
       "    </tr>\n",
       "    <tr>\n",
       "      <th>2007</th>\n",
       "      <td>339</td>\n",
       "      <td>99994</td>\n",
       "      <td>0.003390</td>\n",
       "    </tr>\n",
       "    <tr>\n",
       "      <th>2008</th>\n",
       "      <td>346</td>\n",
       "      <td>99993</td>\n",
       "      <td>0.003460</td>\n",
       "    </tr>\n",
       "    <tr>\n",
       "      <th>2009</th>\n",
       "      <td>347</td>\n",
       "      <td>99990</td>\n",
       "      <td>0.003470</td>\n",
       "    </tr>\n",
       "    <tr>\n",
       "      <th>2010</th>\n",
       "      <td>342</td>\n",
       "      <td>99985</td>\n",
       "      <td>0.003421</td>\n",
       "    </tr>\n",
       "    <tr>\n",
       "      <th>2011</th>\n",
       "      <td>348</td>\n",
       "      <td>99984</td>\n",
       "      <td>0.003481</td>\n",
       "    </tr>\n",
       "    <tr>\n",
       "      <th>2012</th>\n",
       "      <td>352</td>\n",
       "      <td>99983</td>\n",
       "      <td>0.003521</td>\n",
       "    </tr>\n",
       "    <tr>\n",
       "      <th>2013</th>\n",
       "      <td>352</td>\n",
       "      <td>99981</td>\n",
       "      <td>0.003521</td>\n",
       "    </tr>\n",
       "    <tr>\n",
       "      <th>2014</th>\n",
       "      <td>352</td>\n",
       "      <td>99979</td>\n",
       "      <td>0.003521</td>\n",
       "    </tr>\n",
       "    <tr>\n",
       "      <th>2015</th>\n",
       "      <td>352</td>\n",
       "      <td>99978</td>\n",
       "      <td>0.003521</td>\n",
       "    </tr>\n",
       "    <tr>\n",
       "      <th>2016</th>\n",
       "      <td>355</td>\n",
       "      <td>99977</td>\n",
       "      <td>0.003551</td>\n",
       "    </tr>\n",
       "    <tr>\n",
       "      <th>2017</th>\n",
       "      <td>355</td>\n",
       "      <td>99975</td>\n",
       "      <td>0.003551</td>\n",
       "    </tr>\n",
       "    <tr>\n",
       "      <th>2018</th>\n",
       "      <td>366</td>\n",
       "      <td>99973</td>\n",
       "      <td>0.003661</td>\n",
       "    </tr>\n",
       "    <tr>\n",
       "      <th>2019</th>\n",
       "      <td>365</td>\n",
       "      <td>99972</td>\n",
       "      <td>0.003651</td>\n",
       "    </tr>\n",
       "  </tbody>\n",
       "</table>\n",
       "</div>"
      ],
      "text/plain": [
       "      Positive  Total   Percent\n",
       "2000       328  99999  0.003280\n",
       "2001       330  99998  0.003300\n",
       "2002       330  99998  0.003300\n",
       "2003       329  99997  0.003290\n",
       "2004       334  99997  0.003340\n",
       "2005       334  99997  0.003340\n",
       "2006       334  99995  0.003340\n",
       "2007       339  99994  0.003390\n",
       "2008       346  99993  0.003460\n",
       "2009       347  99990  0.003470\n",
       "2010       342  99985  0.003421\n",
       "2011       348  99984  0.003481\n",
       "2012       352  99983  0.003521\n",
       "2013       352  99981  0.003521\n",
       "2014       352  99979  0.003521\n",
       "2015       352  99978  0.003521\n",
       "2016       355  99977  0.003551\n",
       "2017       355  99975  0.003551\n",
       "2018       366  99973  0.003661\n",
       "2019       365  99972  0.003651"
      ]
     },
     "metadata": {},
     "output_type": "display_data"
    }
   ],
   "source": [
    "display(hiv_df)"
   ]
  },
  {
   "cell_type": "code",
   "execution_count": 107,
   "id": "f2e6775c",
   "metadata": {},
   "outputs": [
    {
     "data": {
      "text/html": [
       "<div>\n",
       "<style scoped>\n",
       "    .dataframe tbody tr th:only-of-type {\n",
       "        vertical-align: middle;\n",
       "    }\n",
       "\n",
       "    .dataframe tbody tr th {\n",
       "        vertical-align: top;\n",
       "    }\n",
       "\n",
       "    .dataframe thead th {\n",
       "        text-align: right;\n",
       "    }\n",
       "</style>\n",
       "<table border=\"1\" class=\"dataframe\">\n",
       "  <thead>\n",
       "    <tr style=\"text-align: right;\">\n",
       "      <th></th>\n",
       "      <th>Positive</th>\n",
       "      <th>Total</th>\n",
       "      <th>Percent</th>\n",
       "    </tr>\n",
       "  </thead>\n",
       "  <tbody>\n",
       "    <tr>\n",
       "      <th>2000</th>\n",
       "      <td>331</td>\n",
       "      <td>99997</td>\n",
       "      <td>0.003310</td>\n",
       "    </tr>\n",
       "    <tr>\n",
       "      <th>2001</th>\n",
       "      <td>330</td>\n",
       "      <td>100006</td>\n",
       "      <td>0.003300</td>\n",
       "    </tr>\n",
       "    <tr>\n",
       "      <th>2002</th>\n",
       "      <td>332</td>\n",
       "      <td>99997</td>\n",
       "      <td>0.003320</td>\n",
       "    </tr>\n",
       "    <tr>\n",
       "      <th>2003</th>\n",
       "      <td>328</td>\n",
       "      <td>99996</td>\n",
       "      <td>0.003280</td>\n",
       "    </tr>\n",
       "    <tr>\n",
       "      <th>2004</th>\n",
       "      <td>334</td>\n",
       "      <td>99997</td>\n",
       "      <td>0.003340</td>\n",
       "    </tr>\n",
       "    <tr>\n",
       "      <th>2005</th>\n",
       "      <td>335</td>\n",
       "      <td>100003</td>\n",
       "      <td>0.003350</td>\n",
       "    </tr>\n",
       "    <tr>\n",
       "      <th>2006</th>\n",
       "      <td>331</td>\n",
       "      <td>99994</td>\n",
       "      <td>0.003310</td>\n",
       "    </tr>\n",
       "    <tr>\n",
       "      <th>2007</th>\n",
       "      <td>339</td>\n",
       "      <td>100002</td>\n",
       "      <td>0.003390</td>\n",
       "    </tr>\n",
       "    <tr>\n",
       "      <th>2008</th>\n",
       "      <td>346</td>\n",
       "      <td>99992</td>\n",
       "      <td>0.003460</td>\n",
       "    </tr>\n",
       "    <tr>\n",
       "      <th>2009</th>\n",
       "      <td>344</td>\n",
       "      <td>100000</td>\n",
       "      <td>0.003440</td>\n",
       "    </tr>\n",
       "    <tr>\n",
       "      <th>2010</th>\n",
       "      <td>334</td>\n",
       "      <td>99983</td>\n",
       "      <td>0.003341</td>\n",
       "    </tr>\n",
       "    <tr>\n",
       "      <th>2011</th>\n",
       "      <td>348</td>\n",
       "      <td>99987</td>\n",
       "      <td>0.003480</td>\n",
       "    </tr>\n",
       "    <tr>\n",
       "      <th>2012</th>\n",
       "      <td>347</td>\n",
       "      <td>99987</td>\n",
       "      <td>0.003470</td>\n",
       "    </tr>\n",
       "    <tr>\n",
       "      <th>2013</th>\n",
       "      <td>352</td>\n",
       "      <td>99989</td>\n",
       "      <td>0.003520</td>\n",
       "    </tr>\n",
       "    <tr>\n",
       "      <th>2014</th>\n",
       "      <td>343</td>\n",
       "      <td>99979</td>\n",
       "      <td>0.003431</td>\n",
       "    </tr>\n",
       "    <tr>\n",
       "      <th>2015</th>\n",
       "      <td>352</td>\n",
       "      <td>99978</td>\n",
       "      <td>0.003521</td>\n",
       "    </tr>\n",
       "    <tr>\n",
       "      <th>2016</th>\n",
       "      <td>356</td>\n",
       "      <td>99977</td>\n",
       "      <td>0.003561</td>\n",
       "    </tr>\n",
       "    <tr>\n",
       "      <th>2017</th>\n",
       "      <td>362</td>\n",
       "      <td>99972</td>\n",
       "      <td>0.003621</td>\n",
       "    </tr>\n",
       "    <tr>\n",
       "      <th>2018</th>\n",
       "      <td>361</td>\n",
       "      <td>99967</td>\n",
       "      <td>0.003611</td>\n",
       "    </tr>\n",
       "    <tr>\n",
       "      <th>2019</th>\n",
       "      <td>367</td>\n",
       "      <td>99969</td>\n",
       "      <td>0.003671</td>\n",
       "    </tr>\n",
       "  </tbody>\n",
       "</table>\n",
       "</div>"
      ],
      "text/plain": [
       "      Positive   Total   Percent\n",
       "2000       331   99997  0.003310\n",
       "2001       330  100006  0.003300\n",
       "2002       332   99997  0.003320\n",
       "2003       328   99996  0.003280\n",
       "2004       334   99997  0.003340\n",
       "2005       335  100003  0.003350\n",
       "2006       331   99994  0.003310\n",
       "2007       339  100002  0.003390\n",
       "2008       346   99992  0.003460\n",
       "2009       344  100000  0.003440\n",
       "2010       334   99983  0.003341\n",
       "2011       348   99987  0.003480\n",
       "2012       347   99987  0.003470\n",
       "2013       352   99989  0.003520\n",
       "2014       343   99979  0.003431\n",
       "2015       352   99978  0.003521\n",
       "2016       356   99977  0.003561\n",
       "2017       362   99972  0.003621\n",
       "2018       361   99967  0.003611\n",
       "2019       367   99969  0.003671"
      ]
     },
     "metadata": {},
     "output_type": "display_data"
    }
   ],
   "source": [
    "hiv_df_differential_privacy = hiv_df.copy(deep=True)\n",
    "hiv_df_differential_privacy[\"Positive\"] = hiv_df[\"Positive\"] + np.array(laplace_transform[:20]).astype(int)\n",
    "hiv_df_differential_privacy[\"Total\"] = hiv_df[\"Total\"] + np.array(laplace_transform[20:]).astype(int)\n",
    "hiv_df_differential_privacy[\"Percent\"] = hiv_df_differential_privacy[\"Positive\"] / hiv_df_differential_privacy[\"Total\"]\n",
    "\n",
    "display(hiv_df_differential_privacy)"
   ]
  },
  {
   "cell_type": "code",
   "execution_count": 108,
   "id": "3801dff7",
   "metadata": {},
   "outputs": [],
   "source": [
    "hiv_df.to_csv(\"hiv_data.csv\", index=True)\n",
    "hiv_df_differential_privacy.to_csv(\"hiv_data_dp.csv\", index=True)"
   ]
  },
  {
   "cell_type": "code",
   "execution_count": 109,
   "id": "21022e2f",
   "metadata": {},
   "outputs": [
    {
     "name": "stdout",
     "output_type": "stream",
     "text": [
      "Correlation between Positive columns: 0.9501\n",
      "Correlation between Total columns: 0.9327\n"
     ]
    }
   ],
   "source": [
    "positive_corr = np.corrcoef(hiv_df['Positive'], hiv_df_differential_privacy['Positive'])[0, 1]\n",
    "total_corr = np.corrcoef(hiv_df['Total'], hiv_df_differential_privacy['Total'])[0, 1]\n",
    "\n",
    "print(f\"Correlation between Positive columns: {positive_corr:.4f}\")\n",
    "print(f\"Correlation between Total columns: {total_corr:.4f}\")\n",
    "\n"
   ]
  },
  {
   "cell_type": "code",
   "execution_count": 110,
   "id": "e4111ab0",
   "metadata": {},
   "outputs": [
    {
     "data": {
      "image/png": "[encoded data removed]",
      "text/plain": [
       "<Figure size 500x500 with 1 Axes>"
      ]
     },
     "metadata": {},
     "output_type": "display_data"
    },
    {
     "data": {
      "image/png": "[encoded data removed]",
      "text/plain": [
       "<Figure size 500x500 with 1 Axes>"
      ]
     },
     "metadata": {},
     "output_type": "display_data"
    }
   ],
   "source": [
    "sns.lmplot(x='Positive No DP', y='Positive DP', data=pd.DataFrame({\n",
    "    'Positive No DP': hiv_df['Positive'],\n",
    "    'Positive DP': hiv_df_differential_privacy['Positive']\n",
    "}))\n",
    "plt.title('Linear Fit for Positive Correlation')\n",
    "plt.tight_layout()\n",
    "plt.show()\n",
    "\n",
    "sns.lmplot(x='Total No DP', y='Total DP', data=pd.DataFrame({\n",
    "    'Total No DP': hiv_df['Total'],\n",
    "    'Total DP': hiv_df_differential_privacy['Total']\n",
    "}))\n",
    "plt.title('Linear Fit for Total Correlation')\n",
    "plt.tight_layout()\n",
    "plt.show()\n"
   ]
  }
 ],
 "metadata": {
  "kernelspec": {
   "display_name": "Python 3",
   "language": "python",
   "name": "python3"
  },
  "language_info": {
   "codemirror_mode": {
    "name": "ipython",
    "version": 3
   },
   "file_extension": ".py",
   "mimetype": "text/x-python",
   "name": "python",
   "nbconvert_exporter": "python",
   "pygments_lexer": "ipython3",
   "version": "3.11.3"
  }
 },
 "nbformat": 4,
 "nbformat_minor": 5
}
