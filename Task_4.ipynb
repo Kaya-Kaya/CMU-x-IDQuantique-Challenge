{
 "cells": [
  {
   "cell_type": "markdown",
   "id": "65065fb6",
   "metadata": {},
   "source": [
    "# Task 4: Demonstrating Quantum Advantage"
   ]
  },
  {
   "cell_type": "code",
   "execution_count": 1,
   "id": "4ab73f7d",
   "metadata": {},
   "outputs": [
    {
     "data": {
      "text/plain": [
       "\"\\nThis task is intentionally open-ended, so no boilerplate code is provided.\\n\\nYou may use this notebook to develop your solution, or create a separate file if you prefer.\\nWe recommend starting by copying over your previous implementations of the QRNG, TRNG, and PRNG.\\nThen, explore ways to modularize and combine these components to design a use case that\\ndemonstrates the unique advantages of quantum randomness.\\n\\nYour write-up can be included directly in this notebook or submitted separately.\\nYou're welcome to prepare it as a Google Doc or LaTeX document and upload a PDF to the GitHub repository—\\njust be sure to clearly indicate where it can be found if it's not included here.\\n\""
      ]
     },
     "execution_count": 1,
     "metadata": {},
     "output_type": "execute_result"
    }
   ],
   "source": [
    "\"\"\"\n",
    "This task is intentionally open-ended, so no boilerplate code is provided.\n",
    "\n",
    "You may use this notebook to develop your solution, or create a separate file if you prefer.\n",
    "We recommend starting by copying over your previous implementations of the QRNG, TRNG, and PRNG.\n",
    "Then, explore ways to modularize and combine these components to design a use case that\n",
    "demonstrates the unique advantages of quantum randomness.\n",
    "\n",
    "Your write-up can be included directly in this notebook or submitted separately.\n",
    "You're welcome to prepare it as a Google Doc or LaTeX document and upload a PDF to the GitHub repository—\n",
    "just be sure to clearly indicate where it can be found if it's not included here.\n",
    "\"\"\""
   ]
  },
  {
   "cell_type": "code",
   "execution_count": 2,
   "id": "6affe31e",
   "metadata": {},
   "outputs": [
    {
     "name": "stdout",
     "output_type": "stream",
     "text": [
      "Defaulting to user installation because normal site-packages is not writeable\n",
      "Requirement already satisfied: requests in c:\\users\\darea\\appdata\\roaming\\python\\python311\\site-packages (2.31.0)\n",
      "Requirement already satisfied: charset-normalizer<4,>=2 in c:\\users\\darea\\appdata\\roaming\\python\\python311\\site-packages (from requests) (3.1.0)\n",
      "Requirement already satisfied: idna<4,>=2.5 in c:\\users\\darea\\appdata\\roaming\\python\\python311\\site-packages (from requests) (3.4)\n",
      "Requirement already satisfied: urllib3<3,>=1.21.1 in c:\\users\\darea\\appdata\\roaming\\python\\python311\\site-packages (from requests) (2.2.1)\n",
      "Requirement already satisfied: certifi>=2017.4.17 in c:\\users\\darea\\appdata\\roaming\\python\\python311\\site-packages (from requests) (2024.2.2)\n",
      "Note: you may need to restart the kernel to use updated packages.\n"
     ]
    },
    {
     "name": "stderr",
     "output_type": "stream",
     "text": [
      "\n",
      "[notice] A new release of pip available: 22.3.1 -> 25.1.1\n",
      "[notice] To update, run: python.exe -m pip install --upgrade pip\n"
     ]
    },
    {
     "name": "stdout",
     "output_type": "stream",
     "text": [
      "Defaulting to user installation because normal site-packages is not writeable\n",
      "Requirement already satisfied: numpy in c:\\users\\darea\\appdata\\roaming\\python\\python311\\site-packages (1.26.3)\n",
      "Note: you may need to restart the kernel to use updated packages.\n"
     ]
    },
    {
     "name": "stderr",
     "output_type": "stream",
     "text": [
      "\n",
      "[notice] A new release of pip available: 22.3.1 -> 25.1.1\n",
      "[notice] To update, run: python.exe -m pip install --upgrade pip\n"
     ]
    },
    {
     "name": "stdout",
     "output_type": "stream",
     "text": [
      "Defaulting to user installation because normal site-packages is not writeable\n",
      "Requirement already satisfied: matplotlib in c:\\program files\\python311\\lib\\site-packages (3.10.3)\n",
      "Requirement already satisfied: contourpy>=1.0.1 in c:\\program files\\python311\\lib\\site-packages (from matplotlib) (1.3.2)\n",
      "Requirement already satisfied: cycler>=0.10 in c:\\program files\\python311\\lib\\site-packages (from matplotlib) (0.12.1)\n",
      "Requirement already satisfied: fonttools>=4.22.0 in c:\\program files\\python311\\lib\\site-packages (from matplotlib) (4.58.0)\n",
      "Requirement already satisfied: kiwisolver>=1.3.1 in c:\\program files\\python311\\lib\\site-packages (from matplotlib) (1.4.8)\n",
      "Requirement already satisfied: numpy>=1.23 in c:\\users\\darea\\appdata\\roaming\\python\\python311\\site-packages (from matplotlib) (1.26.3)\n",
      "Requirement already satisfied: packaging>=20.0 in c:\\users\\darea\\appdata\\roaming\\python\\python311\\site-packages (from matplotlib) (23.2)\n",
      "Requirement already satisfied: pillow>=8 in c:\\users\\darea\\appdata\\roaming\\python\\python311\\site-packages (from matplotlib) (10.2.0)\n",
      "Requirement already satisfied: pyparsing>=2.3.1 in c:\\program files\\python311\\lib\\site-packages (from matplotlib) (3.2.3)\n",
      "Requirement already satisfied: python-dateutil>=2.7 in c:\\users\\darea\\appdata\\roaming\\python\\python311\\site-packages (from matplotlib) (2.9.0.post0)\n",
      "Requirement already satisfied: six>=1.5 in c:\\users\\darea\\appdata\\roaming\\python\\python311\\site-packages (from python-dateutil>=2.7->matplotlib) (1.16.0)\n",
      "Note: you may need to restart the kernel to use updated packages.\n"
     ]
    },
    {
     "name": "stderr",
     "output_type": "stream",
     "text": [
      "\n",
      "[notice] A new release of pip available: 22.3.1 -> 25.1.1\n",
      "[notice] To update, run: python.exe -m pip install --upgrade pip\n"
     ]
    },
    {
     "name": "stdout",
     "output_type": "stream",
     "text": [
      "Defaulting to user installation because normal site-packages is not writeable\n",
      "Requirement already satisfied: pyaudio in c:\\program files\\python311\\lib\\site-packages (0.2.14)\n",
      "Note: you may need to restart the kernel to use updated packages.\n"
     ]
    },
    {
     "name": "stderr",
     "output_type": "stream",
     "text": [
      "\n",
      "[notice] A new release of pip available: 22.3.1 -> 25.1.1\n",
      "[notice] To update, run: python.exe -m pip install --upgrade pip\n"
     ]
    },
    {
     "name": "stdout",
     "output_type": "stream",
     "text": [
      "Defaulting to user installation because normal site-packages is not writeable\n",
      "Requirement already satisfied: psutil in c:\\users\\darea\\appdata\\roaming\\python\\python311\\site-packages (7.0.0)\n",
      "Note: you may need to restart the kernel to use updated packages.\n"
     ]
    },
    {
     "name": "stderr",
     "output_type": "stream",
     "text": [
      "\n",
      "[notice] A new release of pip available: 22.3.1 -> 25.1.1\n",
      "[notice] To update, run: python.exe -m pip install --upgrade pip\n"
     ]
    },
    {
     "name": "stdout",
     "output_type": "stream",
     "text": [
      "Defaulting to user installation because normal site-packages is not writeable\n",
      "Requirement already satisfied: pandas in c:\\users\\darea\\appdata\\roaming\\python\\python311\\site-packages (2.2.1)\n",
      "Requirement already satisfied: numpy<2,>=1.23.2 in c:\\users\\darea\\appdata\\roaming\\python\\python311\\site-packages (from pandas) (1.26.3)\n",
      "Requirement already satisfied: python-dateutil>=2.8.2 in c:\\users\\darea\\appdata\\roaming\\python\\python311\\site-packages (from pandas) (2.9.0.post0)\n",
      "Requirement already satisfied: pytz>=2020.1 in c:\\users\\darea\\appdata\\roaming\\python\\python311\\site-packages (from pandas) (2024.1)\n",
      "Requirement already satisfied: tzdata>=2022.7 in c:\\users\\darea\\appdata\\roaming\\python\\python311\\site-packages (from pandas) (2024.1)\n",
      "Requirement already satisfied: six>=1.5 in c:\\users\\darea\\appdata\\roaming\\python\\python311\\site-packages (from python-dateutil>=2.8.2->pandas) (1.16.0)\n",
      "Note: you may need to restart the kernel to use updated packages.\n"
     ]
    },
    {
     "name": "stderr",
     "output_type": "stream",
     "text": [
      "\n",
      "[notice] A new release of pip available: 22.3.1 -> 25.1.1\n",
      "[notice] To update, run: python.exe -m pip install --upgrade pip\n"
     ]
    },
    {
     "name": "stdout",
     "output_type": "stream",
     "text": [
      "Defaulting to user installation because normal site-packages is not writeable\n",
      "Requirement already satisfied: seaborn in c:\\program files\\python311\\lib\\site-packages (0.13.2)\n",
      "Requirement already satisfied: numpy!=1.24.0,>=1.20 in c:\\users\\darea\\appdata\\roaming\\python\\python311\\site-packages (from seaborn) (1.26.3)\n",
      "Requirement already satisfied: pandas>=1.2 in c:\\users\\darea\\appdata\\roaming\\python\\python311\\site-packages (from seaborn) (2.2.1)\n",
      "Requirement already satisfied: matplotlib!=3.6.1,>=3.4 in c:\\program files\\python311\\lib\\site-packages (from seaborn) (3.10.3)\n",
      "Requirement already satisfied: contourpy>=1.0.1 in c:\\program files\\python311\\lib\\site-packages (from matplotlib!=3.6.1,>=3.4->seaborn) (1.3.2)\n",
      "Requirement already satisfied: cycler>=0.10 in c:\\program files\\python311\\lib\\site-packages (from matplotlib!=3.6.1,>=3.4->seaborn) (0.12.1)\n",
      "Requirement already satisfied: fonttools>=4.22.0 in c:\\program files\\python311\\lib\\site-packages (from matplotlib!=3.6.1,>=3.4->seaborn) (4.58.0)\n",
      "Requirement already satisfied: kiwisolver>=1.3.1 in c:\\program files\\python311\\lib\\site-packages (from matplotlib!=3.6.1,>=3.4->seaborn) (1.4.8)\n",
      "Requirement already satisfied: packaging>=20.0 in c:\\users\\darea\\appdata\\roaming\\python\\python311\\site-packages (from matplotlib!=3.6.1,>=3.4->seaborn) (23.2)\n",
      "Requirement already satisfied: pillow>=8 in c:\\users\\darea\\appdata\\roaming\\python\\python311\\site-packages (from matplotlib!=3.6.1,>=3.4->seaborn) (10.2.0)\n",
      "Requirement already satisfied: pyparsing>=2.3.1 in c:\\program files\\python311\\lib\\site-packages (from matplotlib!=3.6.1,>=3.4->seaborn) (3.2.3)\n",
      "Requirement already satisfied: python-dateutil>=2.7 in c:\\users\\darea\\appdata\\roaming\\python\\python311\\site-packages (from matplotlib!=3.6.1,>=3.4->seaborn) (2.9.0.post0)\n",
      "Requirement already satisfied: pytz>=2020.1 in c:\\users\\darea\\appdata\\roaming\\python\\python311\\site-packages (from pandas>=1.2->seaborn) (2024.1)\n",
      "Requirement already satisfied: tzdata>=2022.7 in c:\\users\\darea\\appdata\\roaming\\python\\python311\\site-packages (from pandas>=1.2->seaborn) (2024.1)\n",
      "Requirement already satisfied: six>=1.5 in c:\\users\\darea\\appdata\\roaming\\python\\python311\\site-packages (from python-dateutil>=2.7->matplotlib!=3.6.1,>=3.4->seaborn) (1.16.0)\n",
      "Note: you may need to restart the kernel to use updated packages.\n"
     ]
    },
    {
     "name": "stderr",
     "output_type": "stream",
     "text": [
      "\n",
      "[notice] A new release of pip available: 22.3.1 -> 25.1.1\n",
      "[notice] To update, run: python.exe -m pip install --upgrade pip\n"
     ]
    },
    {
     "name": "stdout",
     "output_type": "stream",
     "text": [
      "Defaulting to user installation because normal site-packages is not writeable\n",
      "Requirement already satisfied: scipy in c:\\users\\darea\\appdata\\roaming\\python\\python311\\site-packages (1.15.3)\n",
      "Requirement already satisfied: numpy<2.5,>=1.23.5 in c:\\users\\darea\\appdata\\roaming\\python\\python311\\site-packages (from scipy) (1.26.3)\n",
      "Note: you may need to restart the kernel to use updated packages.\n"
     ]
    },
    {
     "name": "stderr",
     "output_type": "stream",
     "text": [
      "\n",
      "[notice] A new release of pip available: 22.3.1 -> 25.1.1\n",
      "[notice] To update, run: python.exe -m pip install --upgrade pip\n"
     ]
    }
   ],
   "source": [
    "%pip install requests\n",
    "%pip install numpy\n",
    "%pip install matplotlib\n",
    "%pip install pyaudio\n",
    "%pip install psutil\n",
    "%pip install pandas\n",
    "%pip install seaborn\n",
    "%pip install scipy"
   ]
  },
  {
   "cell_type": "code",
   "execution_count": 3,
   "id": "7796a27e",
   "metadata": {},
   "outputs": [],
   "source": [
    "# Package Imports - feel free to add what you think might be useful! \n",
    "import requests\n",
    "import time\n",
    "import numpy as np\n",
    "import matplotlib.pyplot as plt\n",
    "from collections import deque\n",
    "from scipy.stats import kstest, laplace\n",
    "import hashlib\n",
    "import struct\n",
    "import psutil\n",
    "import platform\n",
    "import math\n",
    "import pandas as pd\n",
    "import seaborn as sns"
   ]
  },
  {
   "cell_type": "code",
   "execution_count": 4,
   "id": "ca9bee92",
   "metadata": {},
   "outputs": [],
   "source": [
    "def get_qrng_floats(n, min_val=0.0, max_val=1.0):\n",
    "    url = \"https://qrng.idqloud.com/api/1.0/double\"\n",
    "    headers = {\"X-API-KEY\": \"aTo4BKRvnc49uRWDk034zaua87vGRXKk9TMLdfkI\"}\n",
    "    max_chunk = 16\n",
    "    results = []\n",
    "    \n",
    "    # Split requests into chunks\n",
    "    for _ in range(n // max_chunk):\n",
    "        response = requests.get(\n",
    "            url,\n",
    "            headers=headers,\n",
    "            params={\n",
    "                \"min\": str(min_val),\n",
    "                \"max\": str(max_val),\n",
    "                \"quantity\": str(max_chunk)\n",
    "            }\n",
    "        )\n",
    "        response.raise_for_status()\n",
    "        results.extend(response.json()['data'])\n",
    "    \n",
    "    # Handle remaining numbers\n",
    "    remaining = n % max_chunk\n",
    "    if remaining > 0:\n",
    "        response = requests.get(\n",
    "            url,\n",
    "            headers=headers,\n",
    "            params={\n",
    "                \"min\": str(min_val),\n",
    "                \"max\": str(max_val),\n",
    "                \"quantity\": str(remaining)\n",
    "            }\n",
    "        )\n",
    "        response.raise_for_status()\n",
    "        results.extend(response.json()['data'])\n",
    "    \n",
    "    return np.array(results, dtype=np.float64)"
   ]
  },
  {
   "cell_type": "code",
   "execution_count": 5,
   "id": "f5e1ea8c",
   "metadata": {},
   "outputs": [],
   "source": [
    "def get_laplace_transform(P, epsilon):\n",
    "    # P is the scaled random numbers from get_qrng_floats()\n",
    "    # Epsilon is the threshold for privacy (smaller epsilon = more privacy = less utility)\n",
    "    b = 1 / epsilon\n",
    "    laplace = []\n",
    "    for p in P:\n",
    "        if p == 0:\n",
    "            laplace.append(float('-inf'))\n",
    "        elif p < 0.5:\n",
    "            laplace.append(b * math.log(2 * p))\n",
    "        else:\n",
    "            laplace.append(-b * math.log(2 * (1 - p)))\n",
    "    return laplace"
   ]
  },
  {
   "cell_type": "code",
   "execution_count": 6,
   "id": "cb1423d3",
   "metadata": {},
   "outputs": [
    {
     "name": "stdout",
     "output_type": "stream",
     "text": [
      "[0.4507716  0.78517679 0.6457213  0.218211   0.77126846 0.71727479\n",
      " 0.06166979 0.95103772 0.93835319 0.36811429 0.22573079 0.87137449\n",
      " 0.53875176 0.22644798 0.0258977  0.21856586 0.08438666 0.82203294\n",
      " 0.92579758 0.07534893 0.52609175 0.28031254 0.78255124 0.68982253\n",
      " 0.58170015 0.33031597 0.7939565  0.08832121 0.324787   0.20664812\n",
      " 0.67320446 0.47498441 0.12854363 0.9291991  0.26945433 0.60374453\n",
      " 0.95969859 0.75095321 0.97190791 0.32450635]\n"
     ]
    }
   ],
   "source": [
    "random_numbers = get_qrng_floats(40)\n",
    "print(random_numbers)\n"
   ]
  },
  {
   "cell_type": "code",
   "execution_count": 7,
   "id": "aac0a8a7",
   "metadata": {},
   "outputs": [],
   "source": [
    "epsilon = 0.25\n",
    "laplace_transform = get_laplace_transform(random_numbers, epsilon)"
   ]
  },
  {
   "cell_type": "code",
   "execution_count": 8,
   "id": "3ab2d180",
   "metadata": {},
   "outputs": [],
   "source": [
    "size = 20\n",
    "\n",
    "changes = -np.random.poisson(2, size)\n",
    "positive = 324 + np.maximum.reduce([changes, np.random.normal(0, 4, size).astype(int)]).cumsum()\n",
    "total = 100000 + changes.cumsum()"
   ]
  },
  {
   "cell_type": "code",
   "execution_count": 9,
   "id": "2ee48949",
   "metadata": {},
   "outputs": [],
   "source": [
    "hiv_df = pd.DataFrame(np.array([positive, total]).T, columns=[\"Positive\", \"Total\"])\n",
    "hiv_df.index = range(2000, 2020)"
   ]
  },
  {
   "cell_type": "code",
   "execution_count": 10,
   "id": "d4ff514c",
   "metadata": {},
   "outputs": [],
   "source": [
    "hiv_df[\"Percent\"] = hiv_df[\"Positive\"] / hiv_df[\"Total\"]"
   ]
  },
  {
   "cell_type": "code",
   "execution_count": 11,
   "id": "39282072",
   "metadata": {},
   "outputs": [
    {
     "data": {
      "text/html": [
       "<div>\n",
       "<style scoped>\n",
       "    .dataframe tbody tr th:only-of-type {\n",
       "        vertical-align: middle;\n",
       "    }\n",
       "\n",
       "    .dataframe tbody tr th {\n",
       "        vertical-align: top;\n",
       "    }\n",
       "\n",
       "    .dataframe thead th {\n",
       "        text-align: right;\n",
       "    }\n",
       "</style>\n",
       "<table border=\"1\" class=\"dataframe\">\n",
       "  <thead>\n",
       "    <tr style=\"text-align: right;\">\n",
       "      <th></th>\n",
       "      <th>Positive</th>\n",
       "      <th>Total</th>\n",
       "      <th>Percent</th>\n",
       "    </tr>\n",
       "  </thead>\n",
       "  <tbody>\n",
       "    <tr>\n",
       "      <th>2000</th>\n",
       "      <td>325</td>\n",
       "      <td>99998</td>\n",
       "      <td>0.003250</td>\n",
       "    </tr>\n",
       "    <tr>\n",
       "      <th>2001</th>\n",
       "      <td>322</td>\n",
       "      <td>99995</td>\n",
       "      <td>0.003220</td>\n",
       "    </tr>\n",
       "    <tr>\n",
       "      <th>2002</th>\n",
       "      <td>324</td>\n",
       "      <td>99993</td>\n",
       "      <td>0.003240</td>\n",
       "    </tr>\n",
       "    <tr>\n",
       "      <th>2003</th>\n",
       "      <td>324</td>\n",
       "      <td>99991</td>\n",
       "      <td>0.003240</td>\n",
       "    </tr>\n",
       "    <tr>\n",
       "      <th>2004</th>\n",
       "      <td>321</td>\n",
       "      <td>99988</td>\n",
       "      <td>0.003210</td>\n",
       "    </tr>\n",
       "    <tr>\n",
       "      <th>2005</th>\n",
       "      <td>319</td>\n",
       "      <td>99986</td>\n",
       "      <td>0.003190</td>\n",
       "    </tr>\n",
       "    <tr>\n",
       "      <th>2006</th>\n",
       "      <td>321</td>\n",
       "      <td>99983</td>\n",
       "      <td>0.003211</td>\n",
       "    </tr>\n",
       "    <tr>\n",
       "      <th>2007</th>\n",
       "      <td>328</td>\n",
       "      <td>99983</td>\n",
       "      <td>0.003281</td>\n",
       "    </tr>\n",
       "    <tr>\n",
       "      <th>2008</th>\n",
       "      <td>325</td>\n",
       "      <td>99980</td>\n",
       "      <td>0.003251</td>\n",
       "    </tr>\n",
       "    <tr>\n",
       "      <th>2009</th>\n",
       "      <td>325</td>\n",
       "      <td>99979</td>\n",
       "      <td>0.003251</td>\n",
       "    </tr>\n",
       "    <tr>\n",
       "      <th>2010</th>\n",
       "      <td>330</td>\n",
       "      <td>99978</td>\n",
       "      <td>0.003301</td>\n",
       "    </tr>\n",
       "    <tr>\n",
       "      <th>2011</th>\n",
       "      <td>328</td>\n",
       "      <td>99976</td>\n",
       "      <td>0.003281</td>\n",
       "    </tr>\n",
       "    <tr>\n",
       "      <th>2012</th>\n",
       "      <td>327</td>\n",
       "      <td>99975</td>\n",
       "      <td>0.003271</td>\n",
       "    </tr>\n",
       "    <tr>\n",
       "      <th>2013</th>\n",
       "      <td>329</td>\n",
       "      <td>99971</td>\n",
       "      <td>0.003291</td>\n",
       "    </tr>\n",
       "    <tr>\n",
       "      <th>2014</th>\n",
       "      <td>327</td>\n",
       "      <td>99969</td>\n",
       "      <td>0.003271</td>\n",
       "    </tr>\n",
       "    <tr>\n",
       "      <th>2015</th>\n",
       "      <td>328</td>\n",
       "      <td>99967</td>\n",
       "      <td>0.003281</td>\n",
       "    </tr>\n",
       "    <tr>\n",
       "      <th>2016</th>\n",
       "      <td>341</td>\n",
       "      <td>99966</td>\n",
       "      <td>0.003411</td>\n",
       "    </tr>\n",
       "    <tr>\n",
       "      <th>2017</th>\n",
       "      <td>341</td>\n",
       "      <td>99965</td>\n",
       "      <td>0.003411</td>\n",
       "    </tr>\n",
       "    <tr>\n",
       "      <th>2018</th>\n",
       "      <td>343</td>\n",
       "      <td>99965</td>\n",
       "      <td>0.003431</td>\n",
       "    </tr>\n",
       "    <tr>\n",
       "      <th>2019</th>\n",
       "      <td>343</td>\n",
       "      <td>99962</td>\n",
       "      <td>0.003431</td>\n",
       "    </tr>\n",
       "  </tbody>\n",
       "</table>\n",
       "</div>"
      ],
      "text/plain": [
       "      Positive  Total   Percent\n",
       "2000       325  99998  0.003250\n",
       "2001       322  99995  0.003220\n",
       "2002       324  99993  0.003240\n",
       "2003       324  99991  0.003240\n",
       "2004       321  99988  0.003210\n",
       "2005       319  99986  0.003190\n",
       "2006       321  99983  0.003211\n",
       "2007       328  99983  0.003281\n",
       "2008       325  99980  0.003251\n",
       "2009       325  99979  0.003251\n",
       "2010       330  99978  0.003301\n",
       "2011       328  99976  0.003281\n",
       "2012       327  99975  0.003271\n",
       "2013       329  99971  0.003291\n",
       "2014       327  99969  0.003271\n",
       "2015       328  99967  0.003281\n",
       "2016       341  99966  0.003411\n",
       "2017       341  99965  0.003411\n",
       "2018       343  99965  0.003431\n",
       "2019       343  99962  0.003431"
      ]
     },
     "metadata": {},
     "output_type": "display_data"
    }
   ],
   "source": [
    "display(hiv_df)"
   ]
  },
  {
   "cell_type": "code",
   "execution_count": 12,
   "id": "f2e6775c",
   "metadata": {},
   "outputs": [
    {
     "data": {
      "text/html": [
       "<div>\n",
       "<style scoped>\n",
       "    .dataframe tbody tr th:only-of-type {\n",
       "        vertical-align: middle;\n",
       "    }\n",
       "\n",
       "    .dataframe tbody tr th {\n",
       "        vertical-align: top;\n",
       "    }\n",
       "\n",
       "    .dataframe thead th {\n",
       "        text-align: right;\n",
       "    }\n",
       "</style>\n",
       "<table border=\"1\" class=\"dataframe\">\n",
       "  <thead>\n",
       "    <tr style=\"text-align: right;\">\n",
       "      <th></th>\n",
       "      <th>Positive</th>\n",
       "      <th>Total</th>\n",
       "      <th>Percent</th>\n",
       "    </tr>\n",
       "  </thead>\n",
       "  <tbody>\n",
       "    <tr>\n",
       "      <th>2000</th>\n",
       "      <td>325</td>\n",
       "      <td>99998</td>\n",
       "      <td>0.003250</td>\n",
       "    </tr>\n",
       "    <tr>\n",
       "      <th>2001</th>\n",
       "      <td>325</td>\n",
       "      <td>99993</td>\n",
       "      <td>0.003250</td>\n",
       "    </tr>\n",
       "    <tr>\n",
       "      <th>2002</th>\n",
       "      <td>325</td>\n",
       "      <td>99996</td>\n",
       "      <td>0.003250</td>\n",
       "    </tr>\n",
       "    <tr>\n",
       "      <th>2003</th>\n",
       "      <td>321</td>\n",
       "      <td>99992</td>\n",
       "      <td>0.003210</td>\n",
       "    </tr>\n",
       "    <tr>\n",
       "      <th>2004</th>\n",
       "      <td>324</td>\n",
       "      <td>99988</td>\n",
       "      <td>0.003240</td>\n",
       "    </tr>\n",
       "    <tr>\n",
       "      <th>2005</th>\n",
       "      <td>321</td>\n",
       "      <td>99985</td>\n",
       "      <td>0.003210</td>\n",
       "    </tr>\n",
       "    <tr>\n",
       "      <th>2006</th>\n",
       "      <td>313</td>\n",
       "      <td>99986</td>\n",
       "      <td>0.003130</td>\n",
       "    </tr>\n",
       "    <tr>\n",
       "      <th>2007</th>\n",
       "      <td>337</td>\n",
       "      <td>99977</td>\n",
       "      <td>0.003371</td>\n",
       "    </tr>\n",
       "    <tr>\n",
       "      <th>2008</th>\n",
       "      <td>333</td>\n",
       "      <td>99979</td>\n",
       "      <td>0.003331</td>\n",
       "    </tr>\n",
       "    <tr>\n",
       "      <th>2009</th>\n",
       "      <td>324</td>\n",
       "      <td>99976</td>\n",
       "      <td>0.003241</td>\n",
       "    </tr>\n",
       "    <tr>\n",
       "      <th>2010</th>\n",
       "      <td>327</td>\n",
       "      <td>99979</td>\n",
       "      <td>0.003271</td>\n",
       "    </tr>\n",
       "    <tr>\n",
       "      <th>2011</th>\n",
       "      <td>333</td>\n",
       "      <td>99976</td>\n",
       "      <td>0.003331</td>\n",
       "    </tr>\n",
       "    <tr>\n",
       "      <th>2012</th>\n",
       "      <td>327</td>\n",
       "      <td>99970</td>\n",
       "      <td>0.003271</td>\n",
       "    </tr>\n",
       "    <tr>\n",
       "      <th>2013</th>\n",
       "      <td>326</td>\n",
       "      <td>99978</td>\n",
       "      <td>0.003261</td>\n",
       "    </tr>\n",
       "    <tr>\n",
       "      <th>2014</th>\n",
       "      <td>316</td>\n",
       "      <td>99967</td>\n",
       "      <td>0.003161</td>\n",
       "    </tr>\n",
       "    <tr>\n",
       "      <th>2015</th>\n",
       "      <td>325</td>\n",
       "      <td>99967</td>\n",
       "      <td>0.003251</td>\n",
       "    </tr>\n",
       "    <tr>\n",
       "      <th>2016</th>\n",
       "      <td>334</td>\n",
       "      <td>99976</td>\n",
       "      <td>0.003341</td>\n",
       "    </tr>\n",
       "    <tr>\n",
       "      <th>2017</th>\n",
       "      <td>345</td>\n",
       "      <td>99967</td>\n",
       "      <td>0.003451</td>\n",
       "    </tr>\n",
       "    <tr>\n",
       "      <th>2018</th>\n",
       "      <td>350</td>\n",
       "      <td>99976</td>\n",
       "      <td>0.003501</td>\n",
       "    </tr>\n",
       "    <tr>\n",
       "      <th>2019</th>\n",
       "      <td>336</td>\n",
       "      <td>99961</td>\n",
       "      <td>0.003361</td>\n",
       "    </tr>\n",
       "  </tbody>\n",
       "</table>\n",
       "</div>"
      ],
      "text/plain": [
       "      Positive  Total   Percent\n",
       "2000       325  99998  0.003250\n",
       "2001       325  99993  0.003250\n",
       "2002       325  99996  0.003250\n",
       "2003       321  99992  0.003210\n",
       "2004       324  99988  0.003240\n",
       "2005       321  99985  0.003210\n",
       "2006       313  99986  0.003130\n",
       "2007       337  99977  0.003371\n",
       "2008       333  99979  0.003331\n",
       "2009       324  99976  0.003241\n",
       "2010       327  99979  0.003271\n",
       "2011       333  99976  0.003331\n",
       "2012       327  99970  0.003271\n",
       "2013       326  99978  0.003261\n",
       "2014       316  99967  0.003161\n",
       "2015       325  99967  0.003251\n",
       "2016       334  99976  0.003341\n",
       "2017       345  99967  0.003451\n",
       "2018       350  99976  0.003501\n",
       "2019       336  99961  0.003361"
      ]
     },
     "metadata": {},
     "output_type": "display_data"
    }
   ],
   "source": [
    "hiv_df_differential_privacy = hiv_df.copy(deep=True)\n",
    "hiv_df_differential_privacy[\"Positive\"] = hiv_df[\"Positive\"] + np.array(laplace_transform[:20]).astype(int)\n",
    "hiv_df_differential_privacy[\"Total\"] = hiv_df[\"Total\"] + np.array(laplace_transform[20:]).astype(int)\n",
    "hiv_df_differential_privacy[\"Percent\"] = hiv_df_differential_privacy[\"Positive\"] / hiv_df_differential_privacy[\"Total\"]\n",
    "\n",
    "display(hiv_df_differential_privacy)"
   ]
  },
  {
   "cell_type": "code",
   "execution_count": 13,
   "id": "3801dff7",
   "metadata": {},
   "outputs": [],
   "source": [
    "hiv_df.to_csv(\"hiv_data.csv\", index=True)\n",
    "hiv_df_differential_privacy.to_csv(\"hiv_data_dp.csv\", index=True)"
   ]
  },
  {
   "cell_type": "code",
   "execution_count": 14,
   "id": "21022e2f",
   "metadata": {},
   "outputs": [
    {
     "name": "stdout",
     "output_type": "stream",
     "text": [
      "Correlation between Positive columns: 0.7920\n",
      "Correlation between Total columns: 0.9186\n"
     ]
    }
   ],
   "source": [
    "positive_corr = np.corrcoef(hiv_df['Positive'], hiv_df_differential_privacy['Positive'])[0, 1]\n",
    "total_corr = np.corrcoef(hiv_df['Total'], hiv_df_differential_privacy['Total'])[0, 1]\n",
    "\n",
    "print(f\"Correlation between Positive columns: {positive_corr:.4f}\")\n",
    "print(f\"Correlation between Total columns: {total_corr:.4f}\")\n",
    "\n"
   ]
  },
  {
   "cell_type": "code",
   "execution_count": 15,
   "id": "e4111ab0",
   "metadata": {},
   "outputs": [
    {
     "data": {
      "image/png": "[encoded data removed]",
      "text/plain": [
       "<Figure size 500x500 with 1 Axes>"
      ]
     },
     "metadata": {},
     "output_type": "display_data"
    },
    {
     "data": {
      "image/png": "[encoded data removed]",
      "text/plain": [
       "<Figure size 500x500 with 1 Axes>"
      ]
     },
     "metadata": {},
     "output_type": "display_data"
    }
   ],
   "source": [
    "sns.lmplot(x='Positive No DP', y='Positive DP', data=pd.DataFrame({\n",
    "    'Positive No DP': hiv_df['Positive'],\n",
    "    'Positive DP': hiv_df_differential_privacy['Positive']\n",
    "}))\n",
    "plt.title('Linear Fit for Positive Correlation')\n",
    "plt.tight_layout()\n",
    "plt.show()\n",
    "\n",
    "sns.lmplot(x='Total No DP', y='Total DP', data=pd.DataFrame({\n",
    "    'Total No DP': hiv_df['Total'],\n",
    "    'Total DP': hiv_df_differential_privacy['Total']\n",
    "}))\n",
    "plt.title('Linear Fit for Total Correlation')\n",
    "plt.tight_layout()\n",
    "plt.show()\n"
   ]
  },
  {
   "cell_type": "code",
   "execution_count": 23,
   "id": "46c70aa2",
   "metadata": {},
   "outputs": [
    {
     "name": "stdout",
     "output_type": "stream",
     "text": [
      "'Positive' KS statistic = 0.1963, p-value = 0.3750\n",
      "'Total' KS statistic = 0.1650, p-value = 0.5907\n"
     ]
    }
   ],
   "source": [
    "def laplace_ks_test(series):\n",
    "    # Data cleaning (probably not needed but just in case)\n",
    "    data = series.dropna().values\n",
    "    if len(data) < 2:\n",
    "        return np.nan, np.nan\n",
    "    \n",
    "    loc = np.median(data)\n",
    "    scale = np.mean(np.abs(data - loc))\n",
    "\n",
    "    stat, pval = kstest(data, 'laplace', args=(loc, scale))\n",
    "    return stat, pval\n",
    "\n",
    "positive_stat, positive_p = laplace_ks_test(hiv_df_differential_privacy['Positive'])\n",
    "total_stat, total_p = laplace_ks_test(hiv_df_differential_privacy['Total'])\n",
    "\n",
    "print(f\"'Positive' KS statistic = {positive_stat:.4f}, p-value = {positive_p:.4f}\")\n",
    "print(f\"'Total' KS statistic = {total_stat:.4f}, p-value = {total_p:.4f}\")\n"
   ]
  },
  {
   "cell_type": "code",
   "execution_count": 21,
   "id": "da2fc89e",
   "metadata": {},
   "outputs": [
    {
     "data": {
      "image/png": "[encoded data removed]",
      "text/plain": [
       "<Figure size 640x480 with 1 Axes>"
      ]
     },
     "metadata": {},
     "output_type": "display_data"
    },
    {
     "data": {
      "image/png": "[encoded data removed]",
      "text/plain": [
       "<Figure size 640x480 with 1 Axes>"
      ]
     },
     "metadata": {},
     "output_type": "display_data"
    }
   ],
   "source": [
    "import matplotlib.pyplot as plt\n",
    "\n",
    "def plot_cdf_vs_laplace(series, title):\n",
    "    data = series.dropna().values\n",
    "    data.sort()\n",
    "\n",
    "    loc = np.median(data)\n",
    "    scale = np.mean(np.abs(data - loc))\n",
    "\n",
    "    # CDF from observed/empircal data\n",
    "    ecdf = np.arange(1, len(data)+1) / len(data)\n",
    "    # Theoretical CDF\n",
    "    laplace_cdf = laplace.cdf(data, loc=loc, scale=scale)\n",
    "\n",
    "    plt.plot(data, ecdf, drawstyle='steps-post', label='Empirical CDF')\n",
    "    plt.plot(data, laplace_cdf, linestyle='--', label='Laplace CDF')\n",
    "    plt.title(title)\n",
    "    plt.xlabel(\"Value\")\n",
    "    plt.ylabel(\"CDF\")\n",
    "    plt.legend()\n",
    "    plt.grid(True)\n",
    "    plt.tight_layout()\n",
    "    plt.show()\n",
    "\n",
    "plot_cdf_vs_laplace(hiv_df_differential_privacy['Positive'], \"Positive vs Laplace CDF\")\n",
    "plot_cdf_vs_laplace(hiv_df_differential_privacy['Total'], \"Total vs Laplace CDF\")\n"
   ]
  }
 ],
 "metadata": {
  "kernelspec": {
   "display_name": "Python 3",
   "language": "python",
   "name": "python3"
  },
  "language_info": {
   "codemirror_mode": {
    "name": "ipython",
    "version": 3
   },
   "file_extension": ".py",
   "mimetype": "text/x-python",
   "name": "python",
   "nbconvert_exporter": "python",
   "pygments_lexer": "ipython3",
   "version": "3.11.3"
  }
 },
 "nbformat": 4,
 "nbformat_minor": 5
}
