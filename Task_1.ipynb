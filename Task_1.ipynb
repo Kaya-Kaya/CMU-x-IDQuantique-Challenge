{
 "cells": [
  {
   "cell_type": "code",
   "execution_count": 3,
   "id": "464d9248",
   "metadata": {},
   "outputs": [
    {
     "name": "stdout",
     "output_type": "stream",
     "text": [
      "Requirement already satisfied: numpy in c:\\users\\curti\\miniconda3\\lib\\site-packages (2.2.5)\n",
      "Note: you may need to restart the kernel to use updated packages.\n",
      "Requirement already satisfied: matplotlib in c:\\users\\curti\\miniconda3\\lib\\site-packages (3.10.3)\n",
      "Requirement already satisfied: contourpy>=1.0.1 in c:\\users\\curti\\miniconda3\\lib\\site-packages (from matplotlib) (1.3.2)\n",
      "Requirement already satisfied: cycler>=0.10 in c:\\users\\curti\\miniconda3\\lib\\site-packages (from matplotlib) (0.12.1)\n",
      "Requirement already satisfied: fonttools>=4.22.0 in c:\\users\\curti\\miniconda3\\lib\\site-packages (from matplotlib) (4.58.0)\n",
      "Requirement already satisfied: kiwisolver>=1.3.1 in c:\\users\\curti\\miniconda3\\lib\\site-packages (from matplotlib) (1.4.8)\n",
      "Requirement already satisfied: numpy>=1.23 in c:\\users\\curti\\miniconda3\\lib\\site-packages (from matplotlib) (2.2.5)\n",
      "Requirement already satisfied: packaging>=20.0 in c:\\users\\curti\\miniconda3\\lib\\site-packages (from matplotlib) (24.2)\n",
      "Requirement already satisfied: pillow>=8 in c:\\users\\curti\\miniconda3\\lib\\site-packages (from matplotlib) (11.2.1)\n",
      "Requirement already satisfied: pyparsing>=2.3.1 in c:\\users\\curti\\miniconda3\\lib\\site-packages (from matplotlib) (3.2.3)\n",
      "Requirement already satisfied: python-dateutil>=2.7 in c:\\users\\curti\\miniconda3\\lib\\site-packages (from matplotlib) (2.9.0.post0)\n",
      "Requirement already satisfied: six>=1.5 in c:\\users\\curti\\miniconda3\\lib\\site-packages (from python-dateutil>=2.7->matplotlib) (1.17.0)\n",
      "Note: you may need to restart the kernel to use updated packages.\n"
     ]
    }
   ],
   "source": [
    "# Package Imports - feel free to add what you think might be useful! \n",
    "%pip install numpy\n",
    "%pip install matplotlib\n",
    "\n",
    "import numpy as np\n",
    "import matplotlib.pyplot as plt "
   ]
  },
  {
   "cell_type": "markdown",
   "id": "41bd5b50",
   "metadata": {},
   "source": [
    "## Task 1: Playing with Pseudo-Randomness"
   ]
  },
  {
   "cell_type": "markdown",
   "id": "5af55384",
   "metadata": {},
   "source": [
    "### Part A: Implement and Benchmark an LCG"
   ]
  },
  {
   "cell_type": "code",
   "execution_count": null,
   "id": "1381c390",
   "metadata": {},
   "outputs": [],
   "source": [
    "def Linear_Congruential_Generator(seed, multiplier, increment, modulus, iterations):\n",
    "    sequence = [seed] \n",
    "\n",
    "    for i in range(iterations):\n",
    "        sequence.append((sequence[-1] * multiplier + increment) % modulus)\n",
    "    return sequence "
   ]
  },
  {
   "cell_type": "code",
   "execution_count": 5,
   "id": "4b64d89c",
   "metadata": {},
   "outputs": [],
   "source": [
    "# TODO: ensure at least one parameter set satisfies the Hull-Dobell Theorem and demonstrates a full-period LCG\n",
    "import math\n",
    "\n",
    "def check_parameters(multiplier, increment, modulus):\n",
    "\n",
    "    # gcd(c,m) = 1\n",
    "    condition1 = math.gcd(increment, modulus) == 1\n",
    "\n",
    "    # a - 1 is divisible by all prime factors of m\n",
    "    factors = set()\n",
    "    n = modulus\n",
    "    while n % 2 == 0:\n",
    "        factors.add(2)\n",
    "        n //= 2\n",
    "    for i in range(3, int(math.sqrt(n)) + 1, 2):\n",
    "        while n % i == 0:\n",
    "            factors.add(i)\n",
    "            n //= i\n",
    "    if n > 2:\n",
    "        factors.add(n)\n",
    "    condition2 = all((multiplier - 1) % f == 0 for f in factors)\n",
    "\n",
    "    #if m is divisible by 4, then a - 1 must also be divisible by 4\n",
    "    condition3 = True\n",
    "    if modulus % 4 == 0:\n",
    "        condition3 = (multiplier - 1) % 4 == 0\n",
    "    \n",
    "    return condition1 and condition2 and condition3"
   ]
  },
  {
   "cell_type": "code",
   "execution_count": null,
   "id": "3edfacb1",
   "metadata": {},
   "outputs": [
    {
     "name": "stdout",
     "output_type": "stream",
     "text": [
      "True\n"
     ]
    }
   ],
   "source": [
    "multiplier = 1664525\n",
    "increment = 1\n",
    "modulus = 64\n",
    "\n",
    "print(check_parameters(multiplier, increment, modulus))\n",
    "# sequence = Linear_Congruential_Generator(12345, multiplier, increment, modulus, 10_000_000)"
   ]
  },
  {
   "cell_type": "code",
   "execution_count": 7,
   "id": "4a4b6af6",
   "metadata": {},
   "outputs": [],
   "source": [
    "pass # TODO: plot a histogram of the generated numbers to visualize distribution"
   ]
  },
  {
   "cell_type": "code",
   "execution_count": 8,
   "id": "e0ad0145",
   "metadata": {},
   "outputs": [],
   "source": [
    "def compute_entropy(X):\n",
    "    \"\"\" \n",
    "    You can pass in the random variable X in whatever form you choose.\n",
    "    One way to represent a random variable is as a dictionary, \n",
    "    where each (key, value) pair represents an outcome x \n",
    "    and its probability P(X = x)\n",
    "\n",
    "    Hint: NumPy might be helpful here!\n",
    "    \"\"\"\n",
    "    pass # TODO: copmute Shannon Entropy or Min Entropy"
   ]
  },
  {
   "cell_type": "code",
   "execution_count": 9,
   "id": "9c7ed2e3",
   "metadata": {},
   "outputs": [],
   "source": [
    "\"\"\" \n",
    "1. fix a short seed value for each LCG \n",
    "(no more than 2^10 possible values for the seed)\n",
    "\n",
    "2. Over a long LCG sequence (at least 10^6 samples),\n",
    "as the generator produces values, treat the sequence of outputs \n",
    "up to each step as a growing empirical distribution.\n",
    "\n",
    "3. At regular intervals (e.g., every 1000 iterations), \n",
    "compute the Shannon Entropy or Min-Entropy \n",
    "of the current sample distribution.\n",
    "\n",
    "Hint: We've already imported matplotlib for you, \n",
    "though any plotting package will do the trick.\n",
    "\"\"\"\n",
    "pass # TODO: Plot how the Shannon Entropy or Min-Entropy evolves with the number of iterations for each LCG configuration."
   ]
  },
  {
   "cell_type": "markdown",
   "id": "1d7e9368",
   "metadata": {},
   "source": [
    "### Part B: Implement and Benchmark AES-Based PRNGs"
   ]
  },
  {
   "cell_type": "code",
   "execution_count": 10,
   "id": "b5932162",
   "metadata": {},
   "outputs": [],
   "source": [
    "# Here is a reference implementation of the AES algorithm: https://github.com/burakozpoyraz/Advanced-Encryption-Standard/tree/master"
   ]
  },
  {
   "cell_type": "code",
   "execution_count": 11,
   "id": "6eef4ba5",
   "metadata": {},
   "outputs": [],
   "source": [
    "# TODO: helper function to pad/truncate the seed to 16 bytes (128 bits)\n",
    "def pad_seed(seed_bytes, target_len=16):\n",
    "    pass  # TODO: pad or truncate the seed appropriately\n",
    "\n",
    "# TODO: implement a simple AES-based PRNG using ECB mode\n",
    "def AES_PRNG(seed, num_bytes):\n",
    "    sequence = []\n",
    "    pass  # TODO: implement AES-based pseudorandom generator\n",
    "    return sequence"
   ]
  },
  {
   "cell_type": "code",
   "execution_count": 12,
   "id": "0dd1c446",
   "metadata": {},
   "outputs": [],
   "source": [
    "# TODO: choose at least 3 different seed lengths (e.g., 8, 16, 64 bits)\n",
    "seed_lengths = [1, 2, 8]  # in bytes\n",
    "\n",
    "# TODO: generate sequences of increasing length (10^5 to 10^7) for each seed length\n",
    "sequence_lengths = [10**5, 10**6, 10**7]"
   ]
  },
  {
   "cell_type": "code",
   "execution_count": 13,
   "id": "d713e43a",
   "metadata": {},
   "outputs": [],
   "source": [
    "# Example: Generate and store sequences\n",
    "all_sequences = {}\n",
    "\n",
    "for seed_len in seed_lengths:\n",
    "    seed = np.random.bytes(seed_len)\n",
    "    all_sequences[seed_len] = {}\n",
    "\n",
    "    for seq_len in sequence_lengths:\n",
    "        prng_output = AES_PRNG(seed, seq_len)\n",
    "        all_sequences[seed_len][seq_len] = prng_output"
   ]
  },
  {
   "cell_type": "code",
   "execution_count": 14,
   "id": "bce1ea26",
   "metadata": {},
   "outputs": [],
   "source": [
    "# TODO: plot entropy across chunks of the output to study randomness\n",
    "def plot_entropy(sequence, window_size=1000):\n",
    "    pass  # TODO: split sequence into chunks and calculate Shannon entropy"
   ]
  },
  {
   "cell_type": "code",
   "execution_count": 15,
   "id": "f687928b",
   "metadata": {},
   "outputs": [],
   "source": [
    "# TODO: plot autocorrelation vs lag\n",
    "def plot_autocorrelation(sequence, max_lag=100):\n",
    "    pass  # TODO: compute autocorrelation for various lag values"
   ]
  },
  {
   "cell_type": "code",
   "execution_count": 16,
   "id": "c3fc886c",
   "metadata": {},
   "outputs": [],
   "source": [
    "# TODO: apply statistical tests (e.g., Chi-squared) to compare with uniform distribution\n",
    "def run_statistical_tests(sequence):\n",
    "    pass  # TODO: run and print p-values for randomness tests"
   ]
  },
  {
   "cell_type": "markdown",
   "id": "7e04feb2",
   "metadata": {},
   "source": [
    "### (BONUS) Part C: Breaking the Illusion of Randomness"
   ]
  },
  {
   "cell_type": "markdown",
   "id": "c7d78b73",
   "metadata": {},
   "source": [
    "### Bonus Task:\n",
    "Train a light-weight model (small-neural net or decision tree) to predict the next number in your random number sequences generated from LCG and AES. Now try implementing at least one other more robust PRNGs from the list below:\n",
    "- XOR-Shift Generator\n",
    "- Permuted Congruential Generator (PCG) \n",
    "- SplitMix64 "
   ]
  },
  {
   "cell_type": "code",
   "execution_count": 17,
   "id": "8ba7b852",
   "metadata": {},
   "outputs": [
    {
     "ename": "ModuleNotFoundError",
     "evalue": "No module named 'torch'",
     "output_type": "error",
     "traceback": [
      "\u001b[31m---------------------------------------------------------------------------\u001b[39m",
      "\u001b[31mModuleNotFoundError\u001b[39m                       Traceback (most recent call last)",
      "\u001b[36mCell\u001b[39m\u001b[36m \u001b[39m\u001b[32mIn[17]\u001b[39m\u001b[32m, line 2\u001b[39m\n\u001b[32m      1\u001b[39m \u001b[38;5;66;03m# You may want to import these packages, though feel free to import anything else you need\u001b[39;00m\n\u001b[32m----> \u001b[39m\u001b[32m2\u001b[39m \u001b[38;5;28;01mimport\u001b[39;00m \u001b[34;01mtorch\u001b[39;00m \n\u001b[32m      3\u001b[39m \u001b[38;5;28;01mimport\u001b[39;00m \u001b[34;01mtorch\u001b[39;00m\u001b[34;01m.\u001b[39;00m\u001b[34;01mnn\u001b[39;00m \u001b[38;5;28;01mas\u001b[39;00m \u001b[34;01mnn\u001b[39;00m \n\u001b[32m      4\u001b[39m \u001b[38;5;28;01mimport\u001b[39;00m \u001b[34;01mtorch\u001b[39;00m\u001b[34;01m.\u001b[39;00m\u001b[34;01mnn\u001b[39;00m\u001b[34;01m.\u001b[39;00m\u001b[34;01mfunctional\u001b[39;00m \u001b[38;5;28;01mas\u001b[39;00m \u001b[34;01mF\u001b[39;00m \n",
      "\u001b[31mModuleNotFoundError\u001b[39m: No module named 'torch'"
     ]
    }
   ],
   "source": [
    "# You may want to import these packages, though feel free to import anything else you need\n",
    "import torch \n",
    "import torch.nn as nn \n",
    "import torch.nn.functional as F \n",
    "\n",
    "import tensorflow as tf \n",
    "import keras \n",
    "\n",
    "import sklearn"
   ]
  }
 ],
 "metadata": {
  "kernelspec": {
   "display_name": "base",
   "language": "python",
   "name": "python3"
  },
  "language_info": {
   "codemirror_mode": {
    "name": "ipython",
    "version": 3
   },
   "file_extension": ".py",
   "mimetype": "text/x-python",
   "name": "python",
   "nbconvert_exporter": "python",
   "pygments_lexer": "ipython3",
   "version": "3.12.9"
  },
  "polyglot_notebook": {
   "kernelInfo": {
    "defaultKernelName": "csharp",
    "items": [
     {
      "aliases": [],
      "name": "csharp"
     }
    ]
   }
  }
 },
 "nbformat": 4,
 "nbformat_minor": 5
}
